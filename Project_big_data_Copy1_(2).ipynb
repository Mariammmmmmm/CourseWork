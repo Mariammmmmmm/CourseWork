{
  "cells": [
    {
      "cell_type": "markdown",
      "metadata": {
        "id": "view-in-github",
        "colab_type": "text"
      },
      "source": [
        "<a href=\"https://colab.research.google.com/github/Mariammmmmmm/CourseWork/blob/main/Project_big_data_Copy1_(2).ipynb\" target=\"_parent\"><img src=\"https://colab.research.google.com/assets/colab-badge.svg\" alt=\"Open In Colab\"/></a>"
      ]
    },
    {
      "cell_type": "code",
      "execution_count": null,
      "id": "union-arlington",
      "metadata": {
        "id": "union-arlington"
      },
      "outputs": [],
      "source": [
        "import os\n",
        "import socket\n",
        "from pyspark import SparkConf, SparkContext, SQLContext\n",
        "from pyspark.sql import SparkSession\n",
        "from pyspark.sql.functions import udf, length, when, col, broadcast\n",
        "from pyspark.sql.types import BooleanType, IntegerType, LongType, StringType, ArrayType, FloatType, StructType, StructField\n",
        "import pyspark.sql.functions as F\n",
        "from pyspark.sql.functions import pandas_udf\n",
        "from pyspark.sql.functions import PandasUDFType\n",
        "from pyspark import StorageLevel\n",
        "from jinja2 import Environment, FileSystemLoader\n",
        "import pandas as pd\n",
        "import datetime"
      ]
    },
    {
      "cell_type": "code",
      "execution_count": null,
      "id": "white-usage",
      "metadata": {
        "id": "white-usage"
      },
      "outputs": [],
      "source": [
        "# setting constants\n",
        "APP_NAME = \"lera_app_new\"\n",
        "NORMALIZED_APP_NAME = APP_NAME.replace('/', '_').replace(':', '_')\n",
        "\n",
        "APPS_TMP_DIR = os.path.join(os.getcwd(), \"tmp\")\n",
        "APPS_CONF_DIR = os.path.join(os.getcwd(), \"conf\")\n",
        "APPS_LOGS_DIR = os.path.join(os.getcwd(), \"logs\")\n",
        "LOG4J_PROP_FILE = os.path.join(APPS_CONF_DIR, \"pyspark-log4j-{}.properties\".format(NORMALIZED_APP_NAME))\n",
        "LOG_FILE = os.path.join(APPS_LOGS_DIR, 'pyspark-{}.log'.format(NORMALIZED_APP_NAME))\n",
        "EXTRA_JAVA_OPTIONS = \"-Dlog4j.configuration=file://{} -Dspark.hadoop.dfs.replication=1 -Dhttps.protocols=TLSv1.0,TLSv1.1,TLSv1.2,TLSv1.3\"\\\n",
        "    .format(LOG4J_PROP_FILE)\n",
        "\n",
        "LOCAL_IP = socket.gethostbyname(socket.gethostname())"
      ]
    },
    {
      "cell_type": "code",
      "execution_count": null,
      "id": "thirty-abraham",
      "metadata": {
        "id": "thirty-abraham"
      },
      "outputs": [],
      "source": [
        "# preparing configuration files from templates\n",
        "for directory in [APPS_CONF_DIR, APPS_LOGS_DIR, APPS_TMP_DIR]:\n",
        "    if not os.path.exists(directory):\n",
        "        os.makedirs(directory)\n",
        "\n",
        "env = Environment(loader=FileSystemLoader('/opt'))\n",
        "template = env.get_template(\"pyspark_log4j.properties.template\")\n",
        "template\\\n",
        "    .stream(logfile=LOG_FILE)\\\n",
        "    .dump(LOG4J_PROP_FILE)"
      ]
    },
    {
      "cell_type": "code",
      "execution_count": null,
      "id": "appropriate-gamma",
      "metadata": {
        "id": "appropriate-gamma"
      },
      "outputs": [],
      "source": [
        "# run spark\n",
        "spark = SparkSession\\\n",
        "    .builder\\\n",
        "    .appName(APP_NAME)\\\n",
        "    .master(\"k8s://https://10.32.7.103:6443\")\\\n",
        "    .config(\"spark.driver.host\", LOCAL_IP)\\\n",
        "    .config(\"spark.ui.port\", \"4040\")\\\n",
        "    .config(\"spark.kubernetes.memoryOverheadFactor\", \"0.6\")\\\n",
        "    .config(\"spark.driver.memory\", \"10g\")\\\n",
        "    .config(\"spark.driver.bindAddress\", \"0.0.0.0\")\\\n",
        "    .config(\"spark.executor.instances\", \"5\")\\\n",
        "    .config(\"spark.executor.cores\", '1')\\\n",
        "    .config(\"spark.executor.memory\", \"9g\")\\\n",
        "    .config(\"spark.memory.fraction\", \"0.6\")\\\n",
        "    .config(\"spark.memory.storageFraction\", \"0.5\")\\\n",
        "    .config(\"spark.sql.autoBroadcastJoinThreshold\", \"-1\")\\\n",
        "    .config(\"spark.driver.extraJavaOptions\", EXTRA_JAVA_OPTIONS)\\\n",
        "    .config(\"spark.kubernetes.namespace\", \"vmyslenkova-337998\")\\\n",
        "    .config(\"spark.kubernetes.driver.label.appname\", APP_NAME)\\\n",
        "    .config(\"spark.kubernetes.executor.label.appname\", APP_NAME)\\\n",
        "    .config(\"spark.kubernetes.container.image.pullPolicy\", \"Always\")\\\n",
        "    .config(\"spark.kubernetes.container.image\", \"node03.st:5000/spark-executor:vmyslenkova-337998\")\\\n",
        "    .config(\"spark.kubernetes.executor.deleteOnTermination\", \"true\")\\\n",
        "    .config(\"spark.local.dir\", \"/tmp/spark\")\\\n",
        "    .config(\"spark.kubernetes.driver.volumes.persistentVolumeClaim.nfs-home-storage.mount.path\",'/home/jovyan/nfs-home')\\\n",
        "    .getOrCreate()"
      ]
    },
    {
      "cell_type": "code",
      "execution_count": null,
      "id": "occupied-address",
      "metadata": {
        "id": "occupied-address"
      },
      "outputs": [],
      "source": [
        "# .config(\"spark.kubernetes.executor.volumes.nfs.my_tom.mount.path\",'/home/jovyan/nltk_data/corpora/wordnet')\\\n",
        "#.config(\"spark.kubernetes.executor.volumes.nfs.my_tom.mount.subPath\",'/nfs/home/vmyslenkova-337998/nltk_data/corpora/wordnet')\\\n",
        "    "
      ]
    },
    {
      "cell_type": "code",
      "execution_count": null,
      "id": "younger-onion",
      "metadata": {
        "scrolled": true,
        "id": "younger-onion"
      },
      "outputs": [],
      "source": [
        "#spark.stop()"
      ]
    },
    {
      "cell_type": "code",
      "execution_count": null,
      "id": "retained-impact",
      "metadata": {
        "id": "retained-impact",
        "outputId": "ac5b825d-ab66-45c4-f980-f107d8c259c6"
      },
      "outputs": [
        {
          "data": {
            "text/plain": [
              "'/home/jovyan/nfs-home'"
            ]
          },
          "execution_count": 7,
          "metadata": {},
          "output_type": "execute_result"
        }
      ],
      "source": [
        "os.getcwd()"
      ]
    },
    {
      "cell_type": "code",
      "execution_count": null,
      "id": "nuclear-keyboard",
      "metadata": {
        "id": "nuclear-keyboard",
        "outputId": "4175da30-8c34-412f-f796-2416cfb9bd02"
      },
      "outputs": [
        {
          "name": "stdout",
          "output_type": "stream",
          "text": [
            "Web UI: http://10.128.251.38:4040\n",
            "\n",
            "log4j file: /home/jovyan/nfs-home/conf/pyspark-log4j-lera_app_new.properties\n",
            "\n",
            "driver log file: /home/jovyan/nfs-home/logs/pyspark-lera_app_new.log\n"
          ]
        }
      ],
      "source": [
        "print(\"Web UI: {}\".format(spark.sparkContext.uiWebUrl))\n",
        "print(\"\\nlog4j file: {}\".format(LOG4J_PROP_FILE))\n",
        "print(\"\\ndriver log file: {}\".format(LOG_FILE))"
      ]
    },
    {
      "cell_type": "code",
      "execution_count": null,
      "id": "noble-investor",
      "metadata": {
        "id": "noble-investor"
      },
      "outputs": [],
      "source": [
        "df_1 = spark.read.json(f\"hdfs:///home/vmyslenkova-337998/doc.json\")"
      ]
    },
    {
      "cell_type": "code",
      "execution_count": null,
      "id": "primary-softball",
      "metadata": {
        "id": "primary-softball"
      },
      "outputs": [],
      "source": [
        "df_2 = spark.read.json(f\"hdfs:///home/vmyslenkova-337998/doc1.json\")"
      ]
    },
    {
      "cell_type": "code",
      "execution_count": null,
      "id": "clean-auckland",
      "metadata": {
        "id": "clean-auckland"
      },
      "outputs": [],
      "source": [
        "df_3 = spark.read.json(f\"hdfs:///home/vmyslenkova-337998/doc2.json\")"
      ]
    },
    {
      "cell_type": "code",
      "execution_count": null,
      "id": "cultural-venezuela",
      "metadata": {
        "id": "cultural-venezuela"
      },
      "outputs": [],
      "source": [
        "df_4 = spark.read.json(f\"hdfs:///home/vmyslenkova-337998/doc3.json\")"
      ]
    },
    {
      "cell_type": "code",
      "execution_count": null,
      "id": "sticky-chassis",
      "metadata": {
        "id": "sticky-chassis"
      },
      "outputs": [],
      "source": [
        "df_pyspark = df_1.union(df_2).union(df_3).union(df_4)"
      ]
    },
    {
      "cell_type": "code",
      "execution_count": null,
      "id": "amber-angola",
      "metadata": {
        "id": "amber-angola",
        "outputId": "3b0d37d9-3aed-4af9-da10-d1370ed6e989"
      },
      "outputs": [
        {
          "name": "stdout",
          "output_type": "stream",
          "text": [
            "+--------+--------------------+--------------------+-----------+-------+----------+--------------------+------------------+-----+---------+-------------+-------+------------------+--------------------+\n",
            "|abstract|          author_ids|        author_names|authorgroup|authors|   creator|         description|               eid|index|publisher|subject_areas|subtype|subtypedescription|               title|\n",
            "+--------+--------------------+--------------------+-----------+-------+----------+--------------------+------------------+-----+---------+-------------+-------+------------------+--------------------+\n",
            "|    null|7004218797;572081...|Yazdani, A.;Eftek...|       null|   null|Yazdani A.|The reliability o...|2-s2.0-84856856873|    0|     null|         null|     ar|              null|Variance decompos...|\n",
            "+--------+--------------------+--------------------+-----------+-------+----------+--------------------+------------------+-----+---------+-------------+-------+------------------+--------------------+\n",
            "only showing top 1 row\n",
            "\n"
          ]
        }
      ],
      "source": [
        "df_pyspark.show(1)"
      ]
    },
    {
      "cell_type": "code",
      "execution_count": null,
      "id": "biblical-apparatus",
      "metadata": {
        "id": "biblical-apparatus"
      },
      "outputs": [],
      "source": [
        "#spark.stop()"
      ]
    },
    {
      "cell_type": "code",
      "execution_count": null,
      "id": "dress-provincial",
      "metadata": {
        "id": "dress-provincial",
        "outputId": "9760652c-cd56-42e8-b195-2497df3773d7"
      },
      "outputs": [
        {
          "data": {
            "text/plain": [
              "1604742"
            ]
          },
          "execution_count": 189,
          "metadata": {},
          "output_type": "execute_result"
        }
      ],
      "source": [
        "df_pyspark.count()"
      ]
    },
    {
      "cell_type": "code",
      "execution_count": null,
      "id": "unable-container",
      "metadata": {
        "id": "unable-container",
        "outputId": "db7e3529-b800-4991-f9a6-7017615f5463"
      },
      "outputs": [
        {
          "name": "stdout",
          "output_type": "stream",
          "text": [
            "root\n",
            " |-- abstract: string (nullable = true)\n",
            " |-- author_ids: string (nullable = true)\n",
            " |-- author_names: string (nullable = true)\n",
            " |-- authorgroup: string (nullable = true)\n",
            " |-- authors: string (nullable = true)\n",
            " |-- creator: string (nullable = true)\n",
            " |-- description: string (nullable = true)\n",
            " |-- eid: string (nullable = true)\n",
            " |-- index: long (nullable = true)\n",
            " |-- publisher: string (nullable = true)\n",
            " |-- subject_areas: string (nullable = true)\n",
            " |-- subtype: string (nullable = true)\n",
            " |-- subtypedescription: string (nullable = true)\n",
            " |-- title: string (nullable = true)\n",
            "\n"
          ]
        }
      ],
      "source": [
        "df_pyspark.printSchema()"
      ]
    },
    {
      "cell_type": "code",
      "execution_count": null,
      "id": "sexual-making",
      "metadata": {
        "id": "sexual-making"
      },
      "outputs": [],
      "source": [
        "from pyspark.sql.functions import split"
      ]
    },
    {
      "cell_type": "code",
      "execution_count": null,
      "id": "altered-kingdom",
      "metadata": {
        "id": "altered-kingdom"
      },
      "outputs": [],
      "source": [
        "df_pyspark = df_pyspark.select(split(col('author_names'), ';').alias('author_names'), split(col('author_ids'), ';').alias('author_ids'), 'eid', 'description')"
      ]
    },
    {
      "cell_type": "code",
      "execution_count": null,
      "id": "automatic-parade",
      "metadata": {
        "id": "automatic-parade",
        "outputId": "2d4496ba-f419-4375-bbab-b540dd085730"
      },
      "outputs": [
        {
          "name": "stdout",
          "output_type": "stream",
          "text": [
            "+--------------------+--------------------+------------------+--------------------+\n",
            "|        author_names|          author_ids|               eid|         description|\n",
            "+--------------------+--------------------+------------------+--------------------+\n",
            "|[Yazdani, A., Eft...|[7004218797, 5720...|2-s2.0-84856856873|The reliability o...|\n",
            "|[Dehkordi, Massou...|[55667068800, 350...|2-s2.0-84855377268|In order to prote...|\n",
            "|[Masmoudi, Ahmed,...|[7003830108, 2233...|2-s2.0-84986121023|Purpose – To purp...|\n",
            "|[Hayat, T., Naz, ...|[8856998000, 5518...|2-s2.0-83255192281|The influence of ...|\n",
            "|[Karimian, S. M.H...|[57197510735, 572...|2-s2.0-83255187977|In many particle-...|\n",
            "|  [Dinarvand, Saeed]|       [24502768200]|2-s2.0-83255185870|This paper deals ...|\n",
            "|[Sadeghian, Hamid...|[57217645052, 700...|2-s2.0-84455203936|This paper presen...|\n",
            "|[Mobarhani, Amir,...|[27267855400, 568...|2-s2.0-84455192488|This paper propos...|\n",
            "|[Movafaghpour, Mo...|[48861849300, 650...|2-s2.0-84455188696|In practical robo...|\n",
            "|[Sharbafi, Maziar...|[24725620800, 700...|2-s2.0-84455170404|Application of th...|\n",
            "+--------------------+--------------------+------------------+--------------------+\n",
            "only showing top 10 rows\n",
            "\n"
          ]
        }
      ],
      "source": [
        "df_pyspark.show(10) "
      ]
    },
    {
      "cell_type": "code",
      "execution_count": null,
      "id": "brief-vegetarian",
      "metadata": {
        "id": "brief-vegetarian",
        "outputId": "64665b50-d67f-4484-d683-22f1ff4537b4"
      },
      "outputs": [
        {
          "data": {
            "text/plain": [
              "1500718"
            ]
          },
          "execution_count": 194,
          "metadata": {},
          "output_type": "execute_result"
        }
      ],
      "source": [
        "df_pyspark = df_pyspark.dropna()\n",
        "df_pyspark = df_pyspark.dropDuplicates()\n",
        "df_pyspark.count()"
      ]
    },
    {
      "cell_type": "code",
      "execution_count": null,
      "id": "motivated-services",
      "metadata": {
        "id": "motivated-services"
      },
      "outputs": [],
      "source": [
        "import re\n",
        "import numpy as np\n",
        "from pprint import pprint\n",
        "import warnings\n",
        "warnings.filterwarnings(\"ignore\", category=DeprecationWarning)"
      ]
    },
    {
      "cell_type": "code",
      "execution_count": null,
      "id": "terminal-sweden",
      "metadata": {
        "id": "terminal-sweden"
      },
      "outputs": [],
      "source": [
        "from nltk.stem import PorterStemmer, WordNetLemmatizer\n",
        "from nltk.corpus import stopwords\n",
        "from nltk.tokenize import word_tokenize"
      ]
    },
    {
      "cell_type": "code",
      "execution_count": null,
      "id": "designing-adventure",
      "metadata": {
        "id": "designing-adventure"
      },
      "outputs": [],
      "source": [
        "import nltk"
      ]
    },
    {
      "cell_type": "code",
      "execution_count": null,
      "id": "minor-harrison",
      "metadata": {
        "id": "minor-harrison"
      },
      "outputs": [],
      "source": [
        "from pyspark.sql import functions as F\n",
        "from pyspark.sql import types as T"
      ]
    },
    {
      "cell_type": "code",
      "execution_count": null,
      "id": "handled-characteristic",
      "metadata": {
        "id": "handled-characteristic"
      },
      "outputs": [],
      "source": [
        "from nltk.corpus import stopwords\n",
        "from nltk.tokenize import word_tokenize"
      ]
    },
    {
      "cell_type": "code",
      "execution_count": null,
      "id": "liable-discipline",
      "metadata": {
        "id": "liable-discipline"
      },
      "outputs": [],
      "source": [
        "class WordNetLemmatizer:\n",
        "    def __init__(self, wordnet):\n",
        "        self.wn = wordnet\n",
        "        \n",
        "    def lemmatize(self, word: str, pos: str = \"n\") -> str:\n",
        "        lemmas = self.wn._morphy(word, pos)\n",
        "        return min(lemmas, key=len) if lemmas else word\n",
        "\n",
        "    def __repr__(self):\n",
        "        return \"<WordNetLemmatizer>\""
      ]
    },
    {
      "cell_type": "code",
      "execution_count": null,
      "id": "included-appendix",
      "metadata": {
        "id": "included-appendix"
      },
      "outputs": [],
      "source": [
        "from nltk.corpus.util import LazyCorpusLoader\n",
        "from nltk.corpus import WordNetCorpusReader\n",
        "from nltk.corpus.reader import CorpusReader\n",
        "\n",
        "wordnet = LazyCorpusLoader(\n",
        "    \"wordnet\",\n",
        "    WordNetCorpusReader,\n",
        "    LazyCorpusLoader(\"omw-1.4\", CorpusReader, r\".*/wn-data-.*\\.tab\", encoding=\"utf8\"),\n",
        ")\n",
        "\n",
        "lemmatizer = WordNetLemmatizer(wordnet)"
      ]
    },
    {
      "cell_type": "code",
      "execution_count": null,
      "id": "organic-tanzania",
      "metadata": {
        "id": "organic-tanzania",
        "outputId": "9acfbe46-7f6d-4ed6-f7db-1f7732460d87"
      },
      "outputs": [
        {
          "data": {
            "text/plain": [
              "'/home/jovyan/nfs-home'"
            ]
          },
          "execution_count": 202,
          "metadata": {},
          "output_type": "execute_result"
        }
      ],
      "source": [
        "os.getcwd()"
      ]
    },
    {
      "cell_type": "code",
      "execution_count": null,
      "id": "extraordinary-disaster",
      "metadata": {
        "id": "extraordinary-disaster"
      },
      "outputs": [],
      "source": [
        "adding_stop_words = ['using','based','approach','data','method','problem','also','information','frequency','time','image',\n",
        "                    'algorithm','performance','model','paper','system','network','problem']"
      ]
    },
    {
      "cell_type": "code",
      "execution_count": null,
      "id": "going-combat",
      "metadata": {
        "id": "going-combat",
        "outputId": "4b1cff80-d917-4bf0-90e6-64c4d323fbe0"
      },
      "outputs": [
        {
          "data": {
            "text/plain": [
              "['ha',\n",
              " 'wa',\n",
              " 'say',\n",
              " 'said',\n",
              " 'using',\n",
              " 'based',\n",
              " 'approach',\n",
              " 'data',\n",
              " 'method',\n",
              " 'problem',\n",
              " 'also',\n",
              " 'information',\n",
              " 'frequency',\n",
              " 'time',\n",
              " 'image',\n",
              " 'algorithm',\n",
              " 'performance',\n",
              " 'model',\n",
              " 'paper',\n",
              " 'system',\n",
              " 'network',\n",
              " 'problem']"
            ]
          },
          "execution_count": 204,
          "metadata": {},
          "output_type": "execute_result"
        }
      ],
      "source": [
        "['ha', 'wa', 'say', 'said', 'using', 'based','approach','data','method','problem',\n",
        "                                             'also','information','frequency','time','image','algorithm','performance','model',\n",
        "                                               'paper','system','network','problem']"
      ]
    },
    {
      "cell_type": "code",
      "execution_count": null,
      "id": "cutting-senate",
      "metadata": {
        "id": "cutting-senate"
      },
      "outputs": [],
      "source": [
        "#for el in adding_stop_words:\n",
        "#    stop_words.add(el)"
      ]
    },
    {
      "cell_type": "code",
      "execution_count": null,
      "id": "maritime-presence",
      "metadata": {
        "id": "maritime-presence"
      },
      "outputs": [],
      "source": [
        "import nltk\n",
        "from nltk.stem import PorterStemmer\n",
        "from nltk.corpus import stopwords\n",
        "from nltk.tokenize import word_tokenize\n",
        "# convert to lower case, removing stop words, numbers / non-alphabetic characters, lemmatization.\n",
        "\n",
        "#nltk.download('punkt',download_dir='/home/jovyan/nltk_data')\n",
        "#nltk.download('wordnet', download_dir='/home/jovyan/nltk_data')\n",
        "#nltk.download( 'stopwords', download_dir='/home/jovyan/nltk_data')\n",
        "stop_words = set(stopwords.words('english'))\n",
        "for el in adding_stop_words:\n",
        "    stop_words.add(el)\n",
        "def clear_files_new(text):\n",
        "    text = text.lower()\n",
        "    text = list(filter(str.isalpha, word_tokenize(text.lower())))\n",
        "    text = list(lemmatizer.lemmatize(word) for word in text)\n",
        "    text = list(word for word in text if word not in stop_words)\n",
        "    new_text = ' '.join(text)\n",
        "    return new_text"
      ]
    },
    {
      "cell_type": "code",
      "execution_count": null,
      "id": "juvenile-rider",
      "metadata": {
        "id": "juvenile-rider"
      },
      "outputs": [],
      "source": [
        "clear_udf = F.udf(f=lambda row: clear_files_new(row), returnType=T.StringType())"
      ]
    },
    {
      "cell_type": "code",
      "execution_count": null,
      "id": "julian-intake",
      "metadata": {
        "id": "julian-intake"
      },
      "outputs": [],
      "source": [
        "df_pyspark = df_pyspark.withColumn(\"description\", clear_udf(F.col(\"description\")))"
      ]
    },
    {
      "cell_type": "code",
      "execution_count": null,
      "id": "saved-graph",
      "metadata": {
        "id": "saved-graph",
        "outputId": "ee49b996-b636-4e88-ed60-b77c12377ace"
      },
      "outputs": [
        {
          "data": {
            "text/plain": [
              "'/home/jovyan/nfs-home'"
            ]
          },
          "execution_count": 212,
          "metadata": {},
          "output_type": "execute_result"
        }
      ],
      "source": [
        "os.getcwd()"
      ]
    },
    {
      "cell_type": "code",
      "execution_count": null,
      "id": "hindu-bibliography",
      "metadata": {
        "id": "hindu-bibliography",
        "outputId": "7da1aa76-2f2e-4cd0-8b8c-12a8f0a25f15"
      },
      "outputs": [
        {
          "name": "stdout",
          "output_type": "stream",
          "text": [
            "+--------------------+--------------------+------------------+--------------------+\n",
            "|        author_names|          author_ids|               eid|         description|\n",
            "+--------------------+--------------------+------------------+--------------------+\n",
            "|[Wang, Yue, Tang,...|[55974919000, 562...|2-s2.0-84255197135|progressing colle...|\n",
            "|[Liu, Qiumei, Wan...|[36024010800, 557...|2-s2.0-84255193740|analytical soluti...|\n",
            "|[Li, Tao, Wang, G...|[57219038695, 571...|2-s2.0-84255168099|propose numerical...|\n",
            "|[Chen, Jun, Wang,...|[57196107646, 560...|2-s2.0-84255167793|grid transaction ...|\n",
            "|[Cao, Zhiguo, Zha...|[54790498500, 547...|2-s2.0-84055184652|analyzes differen...|\n",
            "|[Sun, Yang Guang,...|[35209112800, 547...|2-s2.0-84055176724|traditional defor...|\n",
            "|[Tang, Ying, Ruan...|[54788610400, 457...|2-s2.0-84055176629|uwb modern radio ...|\n",
            "|[Wang, Xin, Ji, C...|[57192623518, 547...|2-s2.0-83755164264|order increase ut...|\n",
            "|[Wu, Xinyong, Jia...|[56129586100, 357...|2-s2.0-83755164243|growth concurrent...|\n",
            "|[Shu, Yuxiang, Li...|[53664423500, 100...|2-s2.0-83755225730|due many nonideal...|\n",
            "+--------------------+--------------------+------------------+--------------------+\n",
            "only showing top 10 rows\n",
            "\n"
          ]
        }
      ],
      "source": [
        "df_pyspark.show(10)"
      ]
    },
    {
      "cell_type": "code",
      "execution_count": null,
      "id": "executed-specification",
      "metadata": {
        "id": "executed-specification"
      },
      "outputs": [],
      "source": [
        "def remove_punkt(text):\n",
        "    text = re.sub(r\"[0-9_-]\", \"\", text)\n",
        "    text = re.sub(r\"\\s+\",\" \",  text)\n",
        "    text = text.strip()\n",
        "    return text\n",
        "\n",
        "remove_punkt_udf = F.udf(f=lambda row: remove_punkt(row), returnType=T.StringType())"
      ]
    },
    {
      "cell_type": "code",
      "execution_count": null,
      "id": "agreed-paper",
      "metadata": {
        "id": "agreed-paper",
        "outputId": "356ff510-1d0e-4e6d-b124-c81b406e804e"
      },
      "outputs": [
        {
          "name": "stdout",
          "output_type": "stream",
          "text": [
            "+--------------------+--------------------+------------------+--------------------+\n",
            "|        author_names|          author_ids|               eid|         Description|\n",
            "+--------------------+--------------------+------------------+--------------------+\n",
            "|[Wang, Yue, Tang,...|[55974919000, 562...|2-s2.0-84255197135|progressing colle...|\n",
            "|[Liu, Qiumei, Wan...|[36024010800, 557...|2-s2.0-84255193740|analytical soluti...|\n",
            "|[Li, Tao, Wang, G...|[57219038695, 571...|2-s2.0-84255168099|propose numerical...|\n",
            "|[Chen, Jun, Wang,...|[57196107646, 560...|2-s2.0-84255167793|grid transaction ...|\n",
            "|[Cao, Zhiguo, Zha...|[54790498500, 547...|2-s2.0-84055184652|analyzes differen...|\n",
            "|[Sun, Yang Guang,...|[35209112800, 547...|2-s2.0-84055176724|traditional defor...|\n",
            "|[Tang, Ying, Ruan...|[54788610400, 457...|2-s2.0-84055176629|uwb modern radio ...|\n",
            "|[Wang, Xin, Ji, C...|[57192623518, 547...|2-s2.0-83755164264|order increase ut...|\n",
            "|[Wu, Xinyong, Jia...|[56129586100, 357...|2-s2.0-83755164243|growth concurrent...|\n",
            "|[Shu, Yuxiang, Li...|[53664423500, 100...|2-s2.0-83755225730|due many nonideal...|\n",
            "+--------------------+--------------------+------------------+--------------------+\n",
            "only showing top 10 rows\n",
            "\n"
          ]
        }
      ],
      "source": [
        "df_pyspark = df_pyspark.withColumn(\"Description\", remove_punkt_udf(F.col(\"Description\")))\n",
        "df_pyspark.show(10)"
      ]
    },
    {
      "cell_type": "code",
      "execution_count": null,
      "id": "pacific-diving",
      "metadata": {
        "id": "pacific-diving",
        "outputId": "e5b2ff48-1af9-4cb4-a336-c58c3cd5bbcd"
      },
      "outputs": [
        {
          "name": "stdout",
          "output_type": "stream",
          "text": [
            "+--------------------+--------------------+------------------+--------------------+--------------------+\n",
            "|        author_names|          author_ids|               eid|         Description|   Description_split|\n",
            "+--------------------+--------------------+------------------+--------------------+--------------------+\n",
            "|[Sun, Yunxin, Li,...|[57196185930, 571...|2-s2.0-85050450717|load forecasting ...|[load, forecastin...|\n",
            "|[Lv, Zhiming, Zha...|[57214310292, 571...|2-s2.0-85050375242|bayesian optimiza...|[bayesian, optimi...|\n",
            "|[Wang, Shenquan, ...|[48662854400, 571...|2-s2.0-85050313855|investigates reli...|[investigates, re...|\n",
            "|[Lu, Fei, Zhang, ...|[25936561900, 564...|2-s2.0-85050290675|cloud computing e...|[cloud, computing...|\n",
            "|[Lu, Licheng, Ren...|[55779421300, 349...|2-s2.0-85049236111|characterizes sed...|[characterizes, s...|\n",
            "+--------------------+--------------------+------------------+--------------------+--------------------+\n",
            "only showing top 5 rows\n",
            "\n"
          ]
        }
      ],
      "source": [
        "def split_description(data):\n",
        "    data_words = data.split(' ')\n",
        "    return data_words\n",
        "\n",
        "split_description_udf = F.udf(f=lambda row: split_description(row), returnType=T.ArrayType(T.StringType()))\n",
        "df_pyspark = df_pyspark.withColumn(\"Description_split\", split_description_udf(F.col(\"Description\")))\n",
        "df_pyspark.show(5)"
      ]
    },
    {
      "cell_type": "code",
      "execution_count": null,
      "id": "aquatic-locking",
      "metadata": {
        "id": "aquatic-locking",
        "outputId": "0856586b-3ed2-4aad-b7b2-6bba23117915"
      },
      "outputs": [
        {
          "name": "stdout",
          "output_type": "stream",
          "text": [
            "+--------------------+--------------------+------------------+--------------------+--------------------+--------------------+\n",
            "|        author_names|          author_ids|               eid|         Description|   Description_split|         rawFeatures|\n",
            "+--------------------+--------------------+------------------+--------------------+--------------------+--------------------+\n",
            "|[Sun, Yunxin, Li,...|[57196185930, 571...|2-s2.0-85050450717|load forecasting ...|[load, forecastin...|(10000,[0,1,3,4,7...|\n",
            "|[Lv, Zhiming, Zha...|[57214310292, 571...|2-s2.0-85050375242|bayesian optimiza...|[bayesian, optimi...|(10000,[0,1,2,4,2...|\n",
            "|[Wang, Shenquan, ...|[48662854400, 571...|2-s2.0-85050313855|investigates reli...|[investigates, re...|(10000,[0,9,17,26...|\n",
            "|[Lu, Fei, Zhang, ...|[25936561900, 564...|2-s2.0-85050290675|cloud computing e...|[cloud, computing...|(10000,[0,1,2,3,4...|\n",
            "|[Lu, Licheng, Ren...|[55779421300, 349...|2-s2.0-85049236111|characterizes sed...|[characterizes, s...|(10000,[26,36,45,...|\n",
            "|[Zhang, Lilun, Gu...|[45662282500, 572...|2-s2.0-85049219062|surrogate underwa...|[surrogate, under...|(10000,[0,1,3,4,1...|\n",
            "|[Li, Da, Chen, Ya...|[57197284648, 572...|2-s2.0-85049179621|seismic attribute...|[seismic, attribu...|(10000,[7,8,18,24...|\n",
            "|[Liu, Xiao, Liu, ...|[56559026300, 559...|2-s2.0-85021241581|utilization distr...|[utilization, dis...|(10000,[0,1,3,4,7...|\n",
            "|[He, Pan, Huang, ...|[57191431893, 561...|2-s2.0-85041931396|present novel tex...|[present, novel, ...|(10000,[1,5,31,33...|\n",
            "|[Zhang, Hengmin, ...|[57141131000, 569...|2-s2.0-85020771780|face recognition ...|[face, recognitio...|(10000,[0,4,11,21...|\n",
            "+--------------------+--------------------+------------------+--------------------+--------------------+--------------------+\n",
            "only showing top 10 rows\n",
            "\n"
          ]
        }
      ],
      "source": [
        "df_help = df_pyspark.cache()\n",
        "from pyspark.ml import feature\n",
        "from pyspark.ml.feature import CountVectorizer\n",
        "cv = CountVectorizer(inputCol=\"Description_split\", outputCol=\"rawFeatures\", vocabSize=10000, minDF=5)\n",
        "cvmodel = cv.fit(df_help)\n",
        "featurizedData = cvmodel.transform(df_help)\n",
        "featurizedData.show(10)"
      ]
    },
    {
      "cell_type": "code",
      "execution_count": null,
      "id": "twenty-amber",
      "metadata": {
        "id": "twenty-amber",
        "outputId": "708576d9-9301-4b17-e5ea-10805c58fc5a"
      },
      "outputs": [
        {
          "data": {
            "text/plain": [
              "['proposed',\n",
              " 'result',\n",
              " 'ha',\n",
              " 'used',\n",
              " 'show',\n",
              " 'feature',\n",
              " 'different',\n",
              " 'analysis',\n",
              " 'study',\n",
              " 'control',\n",
              " 'wa',\n",
              " 'two',\n",
              " 'application',\n",
              " 'process',\n",
              " 'new',\n",
              " 'power',\n",
              " 'simulation',\n",
              " 'design',\n",
              " 'technique',\n",
              " 'learning',\n",
              " 'user',\n",
              " 'one',\n",
              " 'scheme',\n",
              " 'detection',\n",
              " 'accuracy',\n",
              " 'high',\n",
              " 'parameter',\n",
              " 'technology',\n",
              " 'function',\n",
              " 'energy',\n",
              " 'research',\n",
              " 'present',\n",
              " 'structure',\n",
              " 'propose',\n",
              " 'experiment',\n",
              " 'work',\n",
              " 'number',\n",
              " 'set',\n",
              " 'compared',\n",
              " 'signal',\n",
              " 'experimental',\n",
              " 'however',\n",
              " 'use',\n",
              " 'order',\n",
              " 'optimization',\n",
              " 'first',\n",
              " 'improve',\n",
              " 'dynamic',\n",
              " 'service',\n",
              " 'solution',\n",
              " 'important',\n",
              " 'node',\n",
              " 'value',\n",
              " 'efficiency',\n",
              " 'rate',\n",
              " 'existing',\n",
              " 'various',\n",
              " 'novel',\n",
              " 'effect',\n",
              " 'task',\n",
              " 'better',\n",
              " 'development',\n",
              " 'classification',\n",
              " 'communication',\n",
              " 'finally',\n",
              " 'quality',\n",
              " 'error',\n",
              " 'sensor',\n",
              " 'due',\n",
              " 'strategy',\n",
              " 'condition',\n",
              " 'field',\n",
              " 'obtained',\n",
              " 'characteristic',\n",
              " 'neural',\n",
              " 'level',\n",
              " 'well',\n",
              " 'framework',\n",
              " 'environment',\n",
              " 'point',\n",
              " 'presented',\n",
              " 'resource',\n",
              " 'area',\n",
              " 'security',\n",
              " 'state',\n",
              " 'designed',\n",
              " 'test',\n",
              " 'many',\n",
              " 'three',\n",
              " 'cost',\n",
              " 'multiple',\n",
              " 'device',\n",
              " 'factor',\n",
              " 'developed',\n",
              " 'distribution',\n",
              " 'mechanism',\n",
              " 'current',\n",
              " 'machine',\n",
              " 'large',\n",
              " 'optimal',\n",
              " 'traditional',\n",
              " 'effective',\n",
              " 'low',\n",
              " 'provide',\n",
              " 'prediction',\n",
              " 'case',\n",
              " 'make',\n",
              " 'recognition',\n",
              " 'effectiveness',\n",
              " 'efficient',\n",
              " 'cloud',\n",
              " 'channel',\n",
              " 'applied',\n",
              " 'processing',\n",
              " 'key',\n",
              " 'improved',\n",
              " 'type',\n",
              " 'object',\n",
              " 'demonstrate',\n",
              " 'target',\n",
              " 'term',\n",
              " 'space',\n",
              " 'increase',\n",
              " 'operation',\n",
              " 'achieve',\n",
              " 'noise',\n",
              " 'fuzzy',\n",
              " 'need',\n",
              " 'reduce',\n",
              " 'management',\n",
              " 'change',\n",
              " 'evaluation',\n",
              " 'issue',\n",
              " 'transmission',\n",
              " 'source',\n",
              " 'matrix',\n",
              " 'training',\n",
              " 'mode',\n",
              " 'property',\n",
              " 'software',\n",
              " 'complex',\n",
              " 'deep',\n",
              " 'mobile',\n",
              " 'given',\n",
              " 'computing',\n",
              " 'region',\n",
              " 'controller',\n",
              " 'vehicle',\n",
              " 'input',\n",
              " 'human',\n",
              " 'ieee',\n",
              " 'local',\n",
              " 'pattern',\n",
              " 'several',\n",
              " 'component',\n",
              " 'solve',\n",
              " 'may',\n",
              " 'surface',\n",
              " 'speed',\n",
              " 'knowledge',\n",
              " 'video',\n",
              " 'wireless',\n",
              " 'numerical',\n",
              " 'estimation',\n",
              " 'measurement',\n",
              " 'graph',\n",
              " 'support',\n",
              " 'higher',\n",
              " 'sample',\n",
              " 'linear',\n",
              " 'according',\n",
              " 'attack',\n",
              " 'phase',\n",
              " 'real',\n",
              " 'main',\n",
              " 'provides',\n",
              " 'domain',\n",
              " 'considered',\n",
              " 'vector',\n",
              " 'among',\n",
              " 'flow',\n",
              " 'filter',\n",
              " 'search',\n",
              " 'proposes',\n",
              " 'significant',\n",
              " 'layer',\n",
              " 'protocol',\n",
              " 'group',\n",
              " 'challenge',\n",
              " 'size',\n",
              " 'part',\n",
              " 'traffic',\n",
              " 'output',\n",
              " 'theory',\n",
              " 'tool',\n",
              " 'good',\n",
              " 'help',\n",
              " 'antenna',\n",
              " 'effectively',\n",
              " 'architecture',\n",
              " 'requirement',\n",
              " 'social',\n",
              " 'without',\n",
              " 'example',\n",
              " 'load',\n",
              " 'selection',\n",
              " 'decision',\n",
              " 'therefore',\n",
              " 'fault',\n",
              " 'adaptive',\n",
              " 'single',\n",
              " 'loss',\n",
              " 'dataset',\n",
              " 'platform',\n",
              " 'obtain',\n",
              " 'including',\n",
              " 'article',\n",
              " 'range',\n",
              " 'thus',\n",
              " 'mean',\n",
              " 'way',\n",
              " 'analyzed',\n",
              " 'behavior',\n",
              " 'clustering',\n",
              " 'stability',\n",
              " 'respectively',\n",
              " 'distributed',\n",
              " 'ratio',\n",
              " 'tracking',\n",
              " 'advantage',\n",
              " 'measure',\n",
              " 'addition',\n",
              " 'complexity',\n",
              " 'constraint',\n",
              " 'temperature',\n",
              " 'role',\n",
              " 'delay',\n",
              " 'form',\n",
              " 'path',\n",
              " 'relationship',\n",
              " 'potential',\n",
              " 'datasets',\n",
              " 'influence',\n",
              " 'distance',\n",
              " 'robot',\n",
              " 'could',\n",
              " 'average',\n",
              " 'introduced',\n",
              " 'attention',\n",
              " 'impact',\n",
              " 'computational',\n",
              " 'internet',\n",
              " 'index',\n",
              " 'element',\n",
              " 'voltage',\n",
              " 'digital',\n",
              " 'significantly',\n",
              " 'like',\n",
              " 'product',\n",
              " 'objective',\n",
              " 'moreover',\n",
              " 'access',\n",
              " 'class',\n",
              " 'interaction',\n",
              " 'response',\n",
              " 'code',\n",
              " 'find',\n",
              " 'consumption',\n",
              " 'global',\n",
              " 'spatial',\n",
              " 'online',\n",
              " 'representation',\n",
              " 'segmentation',\n",
              " 'found',\n",
              " 'focus',\n",
              " 'comparison',\n",
              " 'cell',\n",
              " 'nonlinear',\n",
              " 'accurate',\n",
              " 'monitoring',\n",
              " 'us',\n",
              " 'standard',\n",
              " 'recent',\n",
              " 'small',\n",
              " 'variable',\n",
              " 'edge',\n",
              " 'hybrid',\n",
              " 'stage',\n",
              " 'implementation',\n",
              " 'sequence',\n",
              " 'content',\n",
              " 'location',\n",
              " 'aim',\n",
              " 'cluster',\n",
              " 'database',\n",
              " 'related',\n",
              " 'achieved',\n",
              " 'generation',\n",
              " 'equation',\n",
              " 'maximum',\n",
              " 'concept',\n",
              " 'second',\n",
              " 'coefficient',\n",
              " 'ability',\n",
              " 'conventional',\n",
              " 'computer',\n",
              " 'address',\n",
              " 'best',\n",
              " 'map',\n",
              " 'module',\n",
              " 'year',\n",
              " 'modeling',\n",
              " 'basis',\n",
              " 'probability',\n",
              " 'motion',\n",
              " 'available',\n",
              " 'material',\n",
              " 'le',\n",
              " 'activity',\n",
              " 'studied',\n",
              " 'improvement',\n",
              " 'optical',\n",
              " 'random',\n",
              " 'face',\n",
              " 'weight',\n",
              " 'text',\n",
              " 'classifier',\n",
              " 'difference',\n",
              " 'correlation',\n",
              " 'furthermore',\n",
              " 'robust',\n",
              " 'circuit',\n",
              " 'performed',\n",
              " 'line',\n",
              " 'extraction',\n",
              " 'step',\n",
              " 'scenario',\n",
              " 'spectrum',\n",
              " 'implemented',\n",
              " 'carried',\n",
              " 'practical',\n",
              " 'visual',\n",
              " 'within',\n",
              " 'widely',\n",
              " 'sensing',\n",
              " 'demand',\n",
              " 'position',\n",
              " 'language',\n",
              " 'considering',\n",
              " 'evaluate',\n",
              " 'firstly',\n",
              " 'increasing',\n",
              " 'lead',\n",
              " 'shown',\n",
              " 'called',\n",
              " 'smart',\n",
              " 'student',\n",
              " 'become',\n",
              " 'identification',\n",
              " 'storage',\n",
              " 'generated',\n",
              " 'theoretical',\n",
              " 'similarity',\n",
              " 'corresponding',\n",
              " 'lower',\n",
              " 'risk',\n",
              " 'analyze',\n",
              " 'original',\n",
              " 'established',\n",
              " 'conducted',\n",
              " 'grid',\n",
              " 'purpose',\n",
              " 'four',\n",
              " 'reliability',\n",
              " 'routing',\n",
              " 'unit',\n",
              " 'gain',\n",
              " 'identify',\n",
              " 'disease',\n",
              " 'take',\n",
              " 'memory',\n",
              " 'give',\n",
              " 'scale',\n",
              " 'detect',\n",
              " 'future',\n",
              " 'specific',\n",
              " 'possible',\n",
              " 'industry',\n",
              " 'investigated',\n",
              " 'rule',\n",
              " 'capacity',\n",
              " 'particle',\n",
              " 'via',\n",
              " 'extract',\n",
              " 'direction',\n",
              " 'total',\n",
              " 'since',\n",
              " 'computation',\n",
              " 'web',\n",
              " 'individual',\n",
              " 'water',\n",
              " 'simple',\n",
              " 'play',\n",
              " 'transfer',\n",
              " 'scheduling',\n",
              " 'fast',\n",
              " 'matching',\n",
              " 'reduction',\n",
              " 'previous',\n",
              " 'combination',\n",
              " 'estimate',\n",
              " 'integrated',\n",
              " 'provided',\n",
              " 'medium',\n",
              " 'intelligent',\n",
              " 'block',\n",
              " 'virtual',\n",
              " 'great',\n",
              " 'limited',\n",
              " 'finding',\n",
              " 'variation',\n",
              " 'degree',\n",
              " 'major',\n",
              " 'suitable',\n",
              " 'link',\n",
              " 'expression',\n",
              " 'fusion',\n",
              " 'especially',\n",
              " 'iot',\n",
              " 'common',\n",
              " 'amount',\n",
              " 'construction',\n",
              " 'people',\n",
              " 'general',\n",
              " 'develop',\n",
              " 'combined',\n",
              " 'reduced',\n",
              " 'calculation',\n",
              " 'discussed',\n",
              " 'semantic',\n",
              " 'employed',\n",
              " 'mining',\n",
              " 'challenging',\n",
              " 'series',\n",
              " 'capability',\n",
              " 'convergence',\n",
              " 'along',\n",
              " 'get',\n",
              " 'much',\n",
              " 'medical',\n",
              " 'reference',\n",
              " 'array',\n",
              " 'uncertainty',\n",
              " 'required',\n",
              " 'parallel',\n",
              " 'joint',\n",
              " 'made',\n",
              " 'metric',\n",
              " 'transform',\n",
              " 'difficult',\n",
              " 'still',\n",
              " 'generate',\n",
              " 'word',\n",
              " 'band',\n",
              " 'patient',\n",
              " 'kind',\n",
              " 'bandwidth',\n",
              " 'verify',\n",
              " 'allocation',\n",
              " 'physical',\n",
              " 'interference',\n",
              " 'extracted',\n",
              " 'evaluated',\n",
              " 'derived',\n",
              " 'showed',\n",
              " 'basic',\n",
              " 'query',\n",
              " 'criterion',\n",
              " 'project',\n",
              " 'even',\n",
              " 'world',\n",
              " 'critical',\n",
              " 'extensive',\n",
              " 'achieves',\n",
              " 'supply',\n",
              " 'light',\n",
              " 'angle',\n",
              " 'force',\n",
              " 'similar',\n",
              " 'overall',\n",
              " 'enhance',\n",
              " 'selected',\n",
              " 'diagnosis',\n",
              " 'density',\n",
              " 'simulated',\n",
              " 'big',\n",
              " 'attribute',\n",
              " 'constructed',\n",
              " 'base',\n",
              " 'context',\n",
              " 'life',\n",
              " 'mainly',\n",
              " 'active',\n",
              " 'frame',\n",
              " 'shape',\n",
              " 'automatic',\n",
              " 'packet',\n",
              " 'aspect',\n",
              " 'tree',\n",
              " 'testing',\n",
              " 'view',\n",
              " 'artificial',\n",
              " 'demonstrated',\n",
              " 'known',\n",
              " 'public',\n",
              " 'convolutional',\n",
              " 'certain',\n",
              " 'predict',\n",
              " 'minimum',\n",
              " 'precision',\n",
              " 'determine',\n",
              " 'event',\n",
              " 'relation',\n",
              " 'natural',\n",
              " 'teaching',\n",
              " 'china',\n",
              " 'production',\n",
              " 'outperforms',\n",
              " 'consider',\n",
              " 'etc',\n",
              " 'laser',\n",
              " 'cause',\n",
              " 'principle',\n",
              " 'literature',\n",
              " 'length',\n",
              " 'benchmark',\n",
              " 'feedback',\n",
              " 'background',\n",
              " 'initial',\n",
              " 'center',\n",
              " 'end',\n",
              " 'wave',\n",
              " 'author',\n",
              " 'failure',\n",
              " 'making',\n",
              " 'robustness',\n",
              " 'procedure',\n",
              " 'structural',\n",
              " 'operator',\n",
              " 'observed',\n",
              " 'solving',\n",
              " 'imaging',\n",
              " 'engineering',\n",
              " 'calculated',\n",
              " 'increased',\n",
              " 'often',\n",
              " 'done',\n",
              " 'trajectory',\n",
              " 'privacy',\n",
              " 'market',\n",
              " 'construct',\n",
              " 'highly',\n",
              " 'color',\n",
              " 'threshold',\n",
              " 'situation',\n",
              " 'recently',\n",
              " 'policy',\n",
              " 'adopted',\n",
              " 'recommendation',\n",
              " 'health',\n",
              " 'optimized',\n",
              " 'improves',\n",
              " 'perform',\n",
              " 'improving',\n",
              " 'building',\n",
              " 'verified',\n",
              " 'review',\n",
              " 'measured',\n",
              " 'hence',\n",
              " 'investigate',\n",
              " 'interest',\n",
              " 'particular',\n",
              " 'regression',\n",
              " 'program',\n",
              " 'deal',\n",
              " 'speech',\n",
              " 'growth',\n",
              " 'tested',\n",
              " 'indicate',\n",
              " 'sparse',\n",
              " 'detail',\n",
              " 'planning',\n",
              " 'methodology',\n",
              " 'boundary',\n",
              " 'modified',\n",
              " 'server',\n",
              " 'resolution',\n",
              " 'safety',\n",
              " 'efficiently',\n",
              " 'assessment',\n",
              " 'statistical',\n",
              " 'utilized',\n",
              " 'programming',\n",
              " 'hardware',\n",
              " 'chain',\n",
              " 'forward',\n",
              " 'dimension',\n",
              " 'long',\n",
              " 'caused',\n",
              " 'affect',\n",
              " 'finite',\n",
              " 'spectral',\n",
              " 'promising',\n",
              " 'useful',\n",
              " 'topology',\n",
              " 'able',\n",
              " 'community',\n",
              " 'business',\n",
              " 'continuous',\n",
              " 'remote',\n",
              " 'topic',\n",
              " 'pixel',\n",
              " 'usually',\n",
              " 'education',\n",
              " 'necessary',\n",
              " 'interface',\n",
              " 'pressure',\n",
              " 'positive',\n",
              " 'genetic',\n",
              " 'comprehensive',\n",
              " 'idea',\n",
              " 'accurately',\n",
              " 'operating',\n",
              " 'action',\n",
              " 'introduce',\n",
              " 'ensure',\n",
              " 'directly',\n",
              " 'mathematical',\n",
              " 'strong',\n",
              " 'transformation',\n",
              " 'wide',\n",
              " 'agent',\n",
              " 'binary',\n",
              " 'reconstruction',\n",
              " 'stress',\n",
              " 'depth',\n",
              " 'n',\n",
              " 'doe',\n",
              " 'specifically',\n",
              " 'meet',\n",
              " 'wind',\n",
              " 'camera',\n",
              " 'researcher',\n",
              " 'combine',\n",
              " 'enterprise',\n",
              " 'disturbance',\n",
              " 'differential',\n",
              " 'secure',\n",
              " 'customer',\n",
              " 'stable',\n",
              " 'consists',\n",
              " 'gene',\n",
              " 'station',\n",
              " 'simultaneously',\n",
              " 'scene',\n",
              " 'core',\n",
              " 'mapping',\n",
              " 'discus',\n",
              " 'account',\n",
              " 'filtering',\n",
              " 'subject',\n",
              " 'combining',\n",
              " 'popular',\n",
              " 'normal',\n",
              " 'essential',\n",
              " 'sensitivity',\n",
              " 'hand',\n",
              " 'retrieval',\n",
              " 'square',\n",
              " 'game',\n",
              " 'message',\n",
              " 'integration',\n",
              " 'decrease',\n",
              " 'coding',\n",
              " 'open',\n",
              " 'compare',\n",
              " 'collected',\n",
              " 'industrial',\n",
              " 'build',\n",
              " 'whole',\n",
              " 'economic',\n",
              " 'implement',\n",
              " 'period',\n",
              " 'plant',\n",
              " 'equipment',\n",
              " 'strength',\n",
              " 'reduces',\n",
              " 'goal',\n",
              " 'practice',\n",
              " 'proved',\n",
              " 'experience',\n",
              " 'determined',\n",
              " 'appropriate',\n",
              " 'realize',\n",
              " 'associated',\n",
              " 'beam',\n",
              " 'bound',\n",
              " 'identified',\n",
              " 'relative',\n",
              " 'reliable',\n",
              " 'localization',\n",
              " 'rapid',\n",
              " 'evolution',\n",
              " 'importance',\n",
              " 'taken',\n",
              " 'namely',\n",
              " 'defined',\n",
              " 'wavelet',\n",
              " 'functional',\n",
              " 'ghz',\n",
              " 'thermal',\n",
              " 'throughput',\n",
              " 'temporal',\n",
              " 'benefit',\n",
              " 'road',\n",
              " 'body',\n",
              " 'allows',\n",
              " 'swarm',\n",
              " 'cnn',\n",
              " 'fully',\n",
              " 'kernel',\n",
              " 'document',\n",
              " 'satellite',\n",
              " 'gradient',\n",
              " 'every',\n",
              " 'encryption',\n",
              " 'actual',\n",
              " 'sampling',\n",
              " 'sharing',\n",
              " 'capture',\n",
              " 'label',\n",
              " 'chinese',\n",
              " 'curve',\n",
              " 'thing',\n",
              " 'pair',\n",
              " 'reducing',\n",
              " 'weighted',\n",
              " 'understanding',\n",
              " 'complete',\n",
              " 'velocity',\n",
              " 'logic',\n",
              " 'unknown',\n",
              " 'configuration',\n",
              " 'heterogeneous',\n",
              " 'volume',\n",
              " 'right',\n",
              " 'converter',\n",
              " 'analyzing',\n",
              " 'train',\n",
              " 'nature',\n",
              " 'vision',\n",
              " 'least',\n",
              " 'taking',\n",
              " 'overcome',\n",
              " 'enhanced',\n",
              " 'automatically',\n",
              " 'radio',\n",
              " 'approximation',\n",
              " 'full',\n",
              " 'prove',\n",
              " 'modern',\n",
              " 'requires',\n",
              " 'working',\n",
              " 'trend',\n",
              " 'optimize',\n",
              " 'named',\n",
              " 'intelligence',\n",
              " 'connected',\n",
              " 'stochastic',\n",
              " 'electric',\n",
              " 'motor',\n",
              " 'propagation',\n",
              " 'presence',\n",
              " 'external',\n",
              " 'movement',\n",
              " 'bit',\n",
              " 'would',\n",
              " 'learn',\n",
              " 'utilization',\n",
              " 'fiber',\n",
              " 'score',\n",
              " 'guarantee',\n",
              " 'interval',\n",
              " 'organization',\n",
              " 'built',\n",
              " 'observation',\n",
              " 'decomposition',\n",
              " 'feasibility',\n",
              " 'city',\n",
              " 'validate',\n",
              " 'primary',\n",
              " 'extended',\n",
              " 'protection',\n",
              " 'scientific',\n",
              " 'produce',\n",
              " 'limitation',\n",
              " 'discrete',\n",
              " 'formation',\n",
              " 'constant',\n",
              " 'relevant',\n",
              " 'svm',\n",
              " 'environmental',\n",
              " 'put',\n",
              " 'law',\n",
              " 'radar',\n",
              " 'vibration',\n",
              " 'static',\n",
              " 'intensity',\n",
              " 'short',\n",
              " 'across',\n",
              " 'receiver',\n",
              " 'cancer',\n",
              " 'although',\n",
              " 'ground',\n",
              " 'providing',\n",
              " 'special',\n",
              " 'includes',\n",
              " 'flexible',\n",
              " 'illustrate',\n",
              " 'treatment',\n",
              " 'typical',\n",
              " 'brain',\n",
              " 'side',\n",
              " 'urban',\n",
              " 'estimated',\n",
              " 'authentication',\n",
              " 'protein',\n",
              " 'direct',\n",
              " 'moving',\n",
              " 'developing',\n",
              " 'fixed',\n",
              " 'lack',\n",
              " 'greatly',\n",
              " 'independent',\n",
              " 'profile',\n",
              " 'quantum',\n",
              " 'avoid',\n",
              " 'peak',\n",
              " 'switching',\n",
              " 'perspective',\n",
              " 'negative',\n",
              " 'comparing',\n",
              " 'embedded',\n",
              " 'population',\n",
              " 'compression',\n",
              " 'applying',\n",
              " 'final',\n",
              " 'science',\n",
              " 'u',\n",
              " 'defect',\n",
              " 'category',\n",
              " 'day',\n",
              " 'relay',\n",
              " 'candidate',\n",
              " 'last',\n",
              " 'prior',\n",
              " 'solved',\n",
              " 'describe',\n",
              " 'electronic',\n",
              " 'superior',\n",
              " 'cycle',\n",
              " 'next',\n",
              " 'meanwhile',\n",
              " 'trained',\n",
              " 'magnetic',\n",
              " 'cognitive',\n",
              " 'manufacturing',\n",
              " 'explore',\n",
              " 'modulation',\n",
              " 'heat',\n",
              " 'gaussian',\n",
              " 'coupling',\n",
              " 'offer',\n",
              " 'indicator',\n",
              " 'detecting',\n",
              " 'patch',\n",
              " 'besides',\n",
              " 'company',\n",
              " 'pulse',\n",
              " 'instance',\n",
              " 'mechanical',\n",
              " 'embedding',\n",
              " 'overhead',\n",
              " 'gas',\n",
              " 'following',\n",
              " 'analytical',\n",
              " 'execution',\n",
              " 'usage',\n",
              " 'university',\n",
              " 'country',\n",
              " 'setting',\n",
              " 'connection',\n",
              " 'enhancement',\n",
              " 'segment',\n",
              " 'resulting',\n",
              " 'limit',\n",
              " 'hierarchical',\n",
              " 'early',\n",
              " 'described',\n",
              " 'easily',\n",
              " 'secondly',\n",
              " 'driving',\n",
              " 'becomes',\n",
              " 'radiation',\n",
              " 'whether',\n",
              " 'verification',\n",
              " 'select',\n",
              " 'air',\n",
              " 'iterative',\n",
              " 'five',\n",
              " 'plane',\n",
              " 'positioning',\n",
              " 'introduces',\n",
              " 'around',\n",
              " 'variety',\n",
              " 'texture',\n",
              " 'generalized',\n",
              " 'gap',\n",
              " 'contribution',\n",
              " 'sufficient',\n",
              " 'price',\n",
              " 'validated',\n",
              " 'detector',\n",
              " 'contrast',\n",
              " 'respect',\n",
              " 'survey',\n",
              " 'performs',\n",
              " 'crucial',\n",
              " 'coverage',\n",
              " 'apply',\n",
              " 'entity',\n",
              " 'sensitive',\n",
              " 'consideration',\n",
              " 'item',\n",
              " 'site',\n",
              " 'pose',\n",
              " 'desired',\n",
              " 'innovation',\n",
              " 'db',\n",
              " 'calculate',\n",
              " 'battery',\n",
              " 'c',\n",
              " 'concentration',\n",
              " 'residual',\n",
              " 'empirical',\n",
              " 'k',\n",
              " 'another',\n",
              " 'designing',\n",
              " 'file',\n",
              " 'additional',\n",
              " 'establish',\n",
              " 'collection',\n",
              " 'always',\n",
              " 'infrastructure',\n",
              " 'comparative',\n",
              " 'question',\n",
              " 'electrical',\n",
              " 'received',\n",
              " 'towards',\n",
              " 'advanced',\n",
              " 'navigation',\n",
              " 'classical',\n",
              " 'lot',\n",
              " 'balance',\n",
              " 'entropy',\n",
              " 'update',\n",
              " 'alternative',\n",
              " 'instead',\n",
              " 'transition',\n",
              " 'quantitative',\n",
              " 'difficulty',\n",
              " 'fundamental',\n",
              " 'p',\n",
              " 'reach',\n",
              " 'utilizing',\n",
              " 'composite',\n",
              " 'require',\n",
              " 'significance',\n",
              " 'yield',\n",
              " 'damage',\n",
              " 'together',\n",
              " 'internal',\n",
              " 'diversity',\n",
              " 'trust',\n",
              " 'person',\n",
              " 'employ',\n",
              " 'cooperative',\n",
              " 'character',\n",
              " 'soil',\n",
              " 'prototype',\n",
              " ...]"
            ]
          },
          "execution_count": 218,
          "metadata": {},
          "output_type": "execute_result"
        }
      ],
      "source": [
        "from pyspark import SparkContext\n",
        "sc = SparkContext.getOrCreate();\n",
        "vocab = cvmodel.vocabulary\n",
        "vocab_broadcast = sc.broadcast(vocab)\n",
        "vocab"
      ]
    },
    {
      "cell_type": "code",
      "execution_count": null,
      "id": "bronze-representative",
      "metadata": {
        "id": "bronze-representative",
        "outputId": "8e8f83a4-657b-48b4-e98d-de8b0634c7ea"
      },
      "outputs": [
        {
          "name": "stdout",
          "output_type": "stream",
          "text": [
            "+--------------------+--------------------+------------------+--------------------+--------------------+--------------------+--------------------+\n",
            "|        author_names|          author_ids|               eid|         Description|   Description_split|         rawFeatures|            features|\n",
            "+--------------------+--------------------+------------------+--------------------+--------------------+--------------------+--------------------+\n",
            "|[Sun, Yunxin, Li,...|[57196185930, 571...|2-s2.0-85050450717|load forecasting ...|[load, forecastin...|(10000,[0,1,3,4,7...|(10000,[0,1,3,4,7...|\n",
            "|[Lv, Zhiming, Zha...|[57214310292, 571...|2-s2.0-85050375242|bayesian optimiza...|[bayesian, optimi...|(10000,[0,1,2,4,2...|(10000,[0,1,2,4,2...|\n",
            "|[Wang, Shenquan, ...|[48662854400, 571...|2-s2.0-85050313855|investigates reli...|[investigates, re...|(10000,[0,9,17,26...|(10000,[0,9,17,26...|\n",
            "|[Lu, Fei, Zhang, ...|[25936561900, 564...|2-s2.0-85050290675|cloud computing e...|[cloud, computing...|(10000,[0,1,2,3,4...|(10000,[0,1,2,3,4...|\n",
            "|[Lu, Licheng, Ren...|[55779421300, 349...|2-s2.0-85049236111|characterizes sed...|[characterizes, s...|(10000,[26,36,45,...|(10000,[26,36,45,...|\n",
            "|[Zhang, Lilun, Gu...|[45662282500, 572...|2-s2.0-85049219062|surrogate underwa...|[surrogate, under...|(10000,[0,1,3,4,1...|(10000,[0,1,3,4,1...|\n",
            "|[Li, Da, Chen, Ya...|[57197284648, 572...|2-s2.0-85049179621|seismic attribute...|[seismic, attribu...|(10000,[7,8,18,24...|(10000,[7,8,18,24...|\n",
            "|[Liu, Xiao, Liu, ...|[56559026300, 559...|2-s2.0-85021241581|utilization distr...|[utilization, dis...|(10000,[0,1,3,4,7...|(10000,[0,1,3,4,7...|\n",
            "|[He, Pan, Huang, ...|[57191431893, 561...|2-s2.0-85041931396|present novel tex...|[present, novel, ...|(10000,[1,5,31,33...|(10000,[1,5,31,33...|\n",
            "|[Zhang, Hengmin, ...|[57141131000, 569...|2-s2.0-85020771780|face recognition ...|[face, recognitio...|(10000,[0,4,11,21...|(10000,[0,4,11,21...|\n",
            "+--------------------+--------------------+------------------+--------------------+--------------------+--------------------+--------------------+\n",
            "only showing top 10 rows\n",
            "\n"
          ]
        }
      ],
      "source": [
        "from pyspark.ml.feature import IDF\n",
        "idf = IDF(inputCol=\"rawFeatures\", outputCol=\"features\")\n",
        "idfModel = idf.fit(featurizedData)\n",
        "rescaledData = idfModel.transform(featurizedData)\n",
        "rescaledData.show(10)"
      ]
    },
    {
      "cell_type": "code",
      "execution_count": null,
      "id": "seven-hobby",
      "metadata": {
        "id": "seven-hobby",
        "outputId": "3ee45c52-d93d-4977-df3d-e0524381ae26"
      },
      "outputs": [
        {
          "name": "stdout",
          "output_type": "stream",
          "text": [
            "+--------------------+\n",
            "|            features|\n",
            "+--------------------+\n",
            "|(10000,[0,1,3,4,7...|\n",
            "|(10000,[0,1,2,4,2...|\n",
            "|(10000,[0,9,17,26...|\n",
            "|(10000,[0,1,2,3,4...|\n",
            "|(10000,[26,36,45,...|\n",
            "+--------------------+\n",
            "only showing top 5 rows\n",
            "\n"
          ]
        }
      ],
      "source": [
        "corpus = rescaledData.select(\"features\").cache()\n",
        "corpus.show(5)"
      ]
    },
    {
      "cell_type": "code",
      "execution_count": null,
      "id": "gorgeous-devices",
      "metadata": {
        "id": "gorgeous-devices"
      },
      "outputs": [],
      "source": [
        "from pyspark.ml.clustering import LDA\n",
        "# ll = []\n",
        "# lp = []\n",
        "# models = []\n",
        "# for num_topics in range(2):\n",
        "#     lda = LDA(k=num_topics+2, maxIter=20, optimizer=\"em\")\n",
        "#     model = lda.fit(corpus)\n",
        "#     ll.append(model.logLikelihood(corpus))\n",
        "#     lp.append(model.logPerplexity(corpus))\n",
        "#     models.append(model)"
      ]
    },
    {
      "cell_type": "code",
      "execution_count": null,
      "id": "civil-sweet",
      "metadata": {
        "id": "civil-sweet"
      },
      "outputs": [],
      "source": [
        "lda = LDA(k=13, maxIter=10, optimizer=\"em\")"
      ]
    },
    {
      "cell_type": "code",
      "execution_count": null,
      "id": "polar-curtis",
      "metadata": {
        "id": "polar-curtis",
        "outputId": "a8f7bfa5-0b83-471f-9bdb-82cfdac46e45"
      },
      "outputs": [
        {
          "ename": "Py4JJavaError",
          "evalue": "An error occurred while calling o2986.fit.\n: org.apache.spark.SparkException: Job aborted due to stage failure: Task 1 in stage 7341.1 failed 4 times, most recent failure: Lost task 1.3 in stage 7341.1 (TID 214413) (10.128.47.200 executor 10): java.lang.ArrayIndexOutOfBoundsException\n\nDriver stacktrace:\n\tat org.apache.spark.scheduler.DAGScheduler.failJobAndIndependentStages(DAGScheduler.scala:2253)\n\tat org.apache.spark.scheduler.DAGScheduler.$anonfun$abortStage$2(DAGScheduler.scala:2202)\n\tat org.apache.spark.scheduler.DAGScheduler.$anonfun$abortStage$2$adapted(DAGScheduler.scala:2201)\n\tat scala.collection.mutable.ResizableArray.foreach(ResizableArray.scala:62)\n\tat scala.collection.mutable.ResizableArray.foreach$(ResizableArray.scala:55)\n\tat scala.collection.mutable.ArrayBuffer.foreach(ArrayBuffer.scala:49)\n\tat org.apache.spark.scheduler.DAGScheduler.abortStage(DAGScheduler.scala:2201)\n\tat org.apache.spark.scheduler.DAGScheduler.$anonfun$handleTaskSetFailed$1(DAGScheduler.scala:1078)\n\tat org.apache.spark.scheduler.DAGScheduler.$anonfun$handleTaskSetFailed$1$adapted(DAGScheduler.scala:1078)\n\tat scala.Option.foreach(Option.scala:407)\n\tat org.apache.spark.scheduler.DAGScheduler.handleTaskSetFailed(DAGScheduler.scala:1078)\n\tat org.apache.spark.scheduler.DAGSchedulerEventProcessLoop.doOnReceive(DAGScheduler.scala:2440)\n\tat org.apache.spark.scheduler.DAGSchedulerEventProcessLoop.onReceive(DAGScheduler.scala:2382)\n\tat org.apache.spark.scheduler.DAGSchedulerEventProcessLoop.onReceive(DAGScheduler.scala:2371)\n\tat org.apache.spark.util.EventLoop$$anon$1.run(EventLoop.scala:49)\n\tat org.apache.spark.scheduler.DAGScheduler.runJob(DAGScheduler.scala:868)\n\tat org.apache.spark.SparkContext.runJob(SparkContext.scala:2202)\n\tat org.apache.spark.SparkContext.runJob(SparkContext.scala:2297)\n\tat org.apache.spark.rdd.RDD.$anonfun$fold$1(RDD.scala:1183)\n\tat org.apache.spark.rdd.RDDOperationScope$.withScope(RDDOperationScope.scala:151)\n\tat org.apache.spark.rdd.RDDOperationScope$.withScope(RDDOperationScope.scala:112)\n\tat org.apache.spark.rdd.RDD.withScope(RDD.scala:414)\n\tat org.apache.spark.rdd.RDD.fold(RDD.scala:1177)\n\tat org.apache.spark.mllib.clustering.EMLDAOptimizer.computeGlobalTopicTotals(LDAOptimizer.scala:228)\n\tat org.apache.spark.mllib.clustering.EMLDAOptimizer.next(LDAOptimizer.scala:213)\n\tat org.apache.spark.mllib.clustering.EMLDAOptimizer.next(LDAOptimizer.scala:76)\n\tat org.apache.spark.mllib.clustering.LDA.run(LDA.scala:330)\n\tat org.apache.spark.ml.clustering.LDA.$anonfun$fit$1(LDA.scala:968)\n\tat org.apache.spark.ml.util.Instrumentation$.$anonfun$instrumented$1(Instrumentation.scala:191)\n\tat scala.util.Try$.apply(Try.scala:213)\n\tat org.apache.spark.ml.util.Instrumentation$.instrumented(Instrumentation.scala:191)\n\tat org.apache.spark.ml.clustering.LDA.fit(LDA.scala:938)\n\tat org.apache.spark.ml.clustering.LDA.fit(LDA.scala:862)\n\tat java.base/jdk.internal.reflect.NativeMethodAccessorImpl.invoke0(Native Method)\n\tat java.base/jdk.internal.reflect.NativeMethodAccessorImpl.invoke(NativeMethodAccessorImpl.java:62)\n\tat java.base/jdk.internal.reflect.DelegatingMethodAccessorImpl.invoke(DelegatingMethodAccessorImpl.java:43)\n\tat java.base/java.lang.reflect.Method.invoke(Method.java:566)\n\tat py4j.reflection.MethodInvoker.invoke(MethodInvoker.java:244)\n\tat py4j.reflection.ReflectionEngine.invoke(ReflectionEngine.java:357)\n\tat py4j.Gateway.invoke(Gateway.java:282)\n\tat py4j.commands.AbstractCommand.invokeMethod(AbstractCommand.java:132)\n\tat py4j.commands.CallCommand.execute(CallCommand.java:79)\n\tat py4j.GatewayConnection.run(GatewayConnection.java:238)\n\tat java.base/java.lang.Thread.run(Thread.java:834)\nCaused by: java.lang.ArrayIndexOutOfBoundsException\n",
          "output_type": "error",
          "traceback": [
            "\u001b[0;31m---------------------------------------------------------------------------\u001b[0m",
            "\u001b[0;31mPy4JJavaError\u001b[0m                             Traceback (most recent call last)",
            "\u001b[0;32m<ipython-input-223-bc3173acafb5>\u001b[0m in \u001b[0;36m<module>\u001b[0;34m\u001b[0m\n\u001b[0;32m----> 1\u001b[0;31m \u001b[0mmodel_1\u001b[0m \u001b[0;34m=\u001b[0m \u001b[0mlda\u001b[0m\u001b[0;34m.\u001b[0m\u001b[0mfit\u001b[0m\u001b[0;34m(\u001b[0m\u001b[0mcorpus\u001b[0m\u001b[0;34m)\u001b[0m\u001b[0;34m\u001b[0m\u001b[0;34m\u001b[0m\u001b[0m\n\u001b[0m",
            "\u001b[0;32m/usr/local/spark/python/pyspark/ml/base.py\u001b[0m in \u001b[0;36mfit\u001b[0;34m(self, dataset, params)\u001b[0m\n\u001b[1;32m    159\u001b[0m                 \u001b[0;32mreturn\u001b[0m \u001b[0mself\u001b[0m\u001b[0;34m.\u001b[0m\u001b[0mcopy\u001b[0m\u001b[0;34m(\u001b[0m\u001b[0mparams\u001b[0m\u001b[0;34m)\u001b[0m\u001b[0;34m.\u001b[0m\u001b[0m_fit\u001b[0m\u001b[0;34m(\u001b[0m\u001b[0mdataset\u001b[0m\u001b[0;34m)\u001b[0m\u001b[0;34m\u001b[0m\u001b[0;34m\u001b[0m\u001b[0m\n\u001b[1;32m    160\u001b[0m             \u001b[0;32melse\u001b[0m\u001b[0;34m:\u001b[0m\u001b[0;34m\u001b[0m\u001b[0;34m\u001b[0m\u001b[0m\n\u001b[0;32m--> 161\u001b[0;31m                 \u001b[0;32mreturn\u001b[0m \u001b[0mself\u001b[0m\u001b[0;34m.\u001b[0m\u001b[0m_fit\u001b[0m\u001b[0;34m(\u001b[0m\u001b[0mdataset\u001b[0m\u001b[0;34m)\u001b[0m\u001b[0;34m\u001b[0m\u001b[0;34m\u001b[0m\u001b[0m\n\u001b[0m\u001b[1;32m    162\u001b[0m         \u001b[0;32melse\u001b[0m\u001b[0;34m:\u001b[0m\u001b[0;34m\u001b[0m\u001b[0;34m\u001b[0m\u001b[0m\n\u001b[1;32m    163\u001b[0m             raise ValueError(\"Params must be either a param map or a list/tuple of param maps, \"\n",
            "\u001b[0;32m/usr/local/spark/python/pyspark/ml/wrapper.py\u001b[0m in \u001b[0;36m_fit\u001b[0;34m(self, dataset)\u001b[0m\n\u001b[1;32m    333\u001b[0m \u001b[0;34m\u001b[0m\u001b[0m\n\u001b[1;32m    334\u001b[0m     \u001b[0;32mdef\u001b[0m \u001b[0m_fit\u001b[0m\u001b[0;34m(\u001b[0m\u001b[0mself\u001b[0m\u001b[0;34m,\u001b[0m \u001b[0mdataset\u001b[0m\u001b[0;34m)\u001b[0m\u001b[0;34m:\u001b[0m\u001b[0;34m\u001b[0m\u001b[0;34m\u001b[0m\u001b[0m\n\u001b[0;32m--> 335\u001b[0;31m         \u001b[0mjava_model\u001b[0m \u001b[0;34m=\u001b[0m \u001b[0mself\u001b[0m\u001b[0;34m.\u001b[0m\u001b[0m_fit_java\u001b[0m\u001b[0;34m(\u001b[0m\u001b[0mdataset\u001b[0m\u001b[0;34m)\u001b[0m\u001b[0;34m\u001b[0m\u001b[0;34m\u001b[0m\u001b[0m\n\u001b[0m\u001b[1;32m    336\u001b[0m         \u001b[0mmodel\u001b[0m \u001b[0;34m=\u001b[0m \u001b[0mself\u001b[0m\u001b[0;34m.\u001b[0m\u001b[0m_create_model\u001b[0m\u001b[0;34m(\u001b[0m\u001b[0mjava_model\u001b[0m\u001b[0;34m)\u001b[0m\u001b[0;34m\u001b[0m\u001b[0;34m\u001b[0m\u001b[0m\n\u001b[1;32m    337\u001b[0m         \u001b[0;32mreturn\u001b[0m \u001b[0mself\u001b[0m\u001b[0;34m.\u001b[0m\u001b[0m_copyValues\u001b[0m\u001b[0;34m(\u001b[0m\u001b[0mmodel\u001b[0m\u001b[0;34m)\u001b[0m\u001b[0;34m\u001b[0m\u001b[0;34m\u001b[0m\u001b[0m\n",
            "\u001b[0;32m/usr/local/spark/python/pyspark/ml/wrapper.py\u001b[0m in \u001b[0;36m_fit_java\u001b[0;34m(self, dataset)\u001b[0m\n\u001b[1;32m    330\u001b[0m         \"\"\"\n\u001b[1;32m    331\u001b[0m         \u001b[0mself\u001b[0m\u001b[0;34m.\u001b[0m\u001b[0m_transfer_params_to_java\u001b[0m\u001b[0;34m(\u001b[0m\u001b[0;34m)\u001b[0m\u001b[0;34m\u001b[0m\u001b[0;34m\u001b[0m\u001b[0m\n\u001b[0;32m--> 332\u001b[0;31m         \u001b[0;32mreturn\u001b[0m \u001b[0mself\u001b[0m\u001b[0;34m.\u001b[0m\u001b[0m_java_obj\u001b[0m\u001b[0;34m.\u001b[0m\u001b[0mfit\u001b[0m\u001b[0;34m(\u001b[0m\u001b[0mdataset\u001b[0m\u001b[0;34m.\u001b[0m\u001b[0m_jdf\u001b[0m\u001b[0;34m)\u001b[0m\u001b[0;34m\u001b[0m\u001b[0;34m\u001b[0m\u001b[0m\n\u001b[0m\u001b[1;32m    333\u001b[0m \u001b[0;34m\u001b[0m\u001b[0m\n\u001b[1;32m    334\u001b[0m     \u001b[0;32mdef\u001b[0m \u001b[0m_fit\u001b[0m\u001b[0;34m(\u001b[0m\u001b[0mself\u001b[0m\u001b[0;34m,\u001b[0m \u001b[0mdataset\u001b[0m\u001b[0;34m)\u001b[0m\u001b[0;34m:\u001b[0m\u001b[0;34m\u001b[0m\u001b[0;34m\u001b[0m\u001b[0m\n",
            "\u001b[0;32m/usr/local/spark/python/lib/py4j-0.10.9-src.zip/py4j/java_gateway.py\u001b[0m in \u001b[0;36m__call__\u001b[0;34m(self, *args)\u001b[0m\n\u001b[1;32m   1302\u001b[0m \u001b[0;34m\u001b[0m\u001b[0m\n\u001b[1;32m   1303\u001b[0m         \u001b[0manswer\u001b[0m \u001b[0;34m=\u001b[0m \u001b[0mself\u001b[0m\u001b[0;34m.\u001b[0m\u001b[0mgateway_client\u001b[0m\u001b[0;34m.\u001b[0m\u001b[0msend_command\u001b[0m\u001b[0;34m(\u001b[0m\u001b[0mcommand\u001b[0m\u001b[0;34m)\u001b[0m\u001b[0;34m\u001b[0m\u001b[0;34m\u001b[0m\u001b[0m\n\u001b[0;32m-> 1304\u001b[0;31m         return_value = get_return_value(\n\u001b[0m\u001b[1;32m   1305\u001b[0m             answer, self.gateway_client, self.target_id, self.name)\n\u001b[1;32m   1306\u001b[0m \u001b[0;34m\u001b[0m\u001b[0m\n",
            "\u001b[0;32m/usr/local/spark/python/pyspark/sql/utils.py\u001b[0m in \u001b[0;36mdeco\u001b[0;34m(*a, **kw)\u001b[0m\n\u001b[1;32m    109\u001b[0m     \u001b[0;32mdef\u001b[0m \u001b[0mdeco\u001b[0m\u001b[0;34m(\u001b[0m\u001b[0;34m*\u001b[0m\u001b[0ma\u001b[0m\u001b[0;34m,\u001b[0m \u001b[0;34m**\u001b[0m\u001b[0mkw\u001b[0m\u001b[0;34m)\u001b[0m\u001b[0;34m:\u001b[0m\u001b[0;34m\u001b[0m\u001b[0;34m\u001b[0m\u001b[0m\n\u001b[1;32m    110\u001b[0m         \u001b[0;32mtry\u001b[0m\u001b[0;34m:\u001b[0m\u001b[0;34m\u001b[0m\u001b[0;34m\u001b[0m\u001b[0m\n\u001b[0;32m--> 111\u001b[0;31m             \u001b[0;32mreturn\u001b[0m \u001b[0mf\u001b[0m\u001b[0;34m(\u001b[0m\u001b[0;34m*\u001b[0m\u001b[0ma\u001b[0m\u001b[0;34m,\u001b[0m \u001b[0;34m**\u001b[0m\u001b[0mkw\u001b[0m\u001b[0;34m)\u001b[0m\u001b[0;34m\u001b[0m\u001b[0;34m\u001b[0m\u001b[0m\n\u001b[0m\u001b[1;32m    112\u001b[0m         \u001b[0;32mexcept\u001b[0m \u001b[0mpy4j\u001b[0m\u001b[0;34m.\u001b[0m\u001b[0mprotocol\u001b[0m\u001b[0;34m.\u001b[0m\u001b[0mPy4JJavaError\u001b[0m \u001b[0;32mas\u001b[0m \u001b[0me\u001b[0m\u001b[0;34m:\u001b[0m\u001b[0;34m\u001b[0m\u001b[0;34m\u001b[0m\u001b[0m\n\u001b[1;32m    113\u001b[0m             \u001b[0mconverted\u001b[0m \u001b[0;34m=\u001b[0m \u001b[0mconvert_exception\u001b[0m\u001b[0;34m(\u001b[0m\u001b[0me\u001b[0m\u001b[0;34m.\u001b[0m\u001b[0mjava_exception\u001b[0m\u001b[0;34m)\u001b[0m\u001b[0;34m\u001b[0m\u001b[0;34m\u001b[0m\u001b[0m\n",
            "\u001b[0;32m/usr/local/spark/python/lib/py4j-0.10.9-src.zip/py4j/protocol.py\u001b[0m in \u001b[0;36mget_return_value\u001b[0;34m(answer, gateway_client, target_id, name)\u001b[0m\n\u001b[1;32m    324\u001b[0m             \u001b[0mvalue\u001b[0m \u001b[0;34m=\u001b[0m \u001b[0mOUTPUT_CONVERTER\u001b[0m\u001b[0;34m[\u001b[0m\u001b[0mtype\u001b[0m\u001b[0;34m]\u001b[0m\u001b[0;34m(\u001b[0m\u001b[0manswer\u001b[0m\u001b[0;34m[\u001b[0m\u001b[0;36m2\u001b[0m\u001b[0;34m:\u001b[0m\u001b[0;34m]\u001b[0m\u001b[0;34m,\u001b[0m \u001b[0mgateway_client\u001b[0m\u001b[0;34m)\u001b[0m\u001b[0;34m\u001b[0m\u001b[0;34m\u001b[0m\u001b[0m\n\u001b[1;32m    325\u001b[0m             \u001b[0;32mif\u001b[0m \u001b[0manswer\u001b[0m\u001b[0;34m[\u001b[0m\u001b[0;36m1\u001b[0m\u001b[0;34m]\u001b[0m \u001b[0;34m==\u001b[0m \u001b[0mREFERENCE_TYPE\u001b[0m\u001b[0;34m:\u001b[0m\u001b[0;34m\u001b[0m\u001b[0;34m\u001b[0m\u001b[0m\n\u001b[0;32m--> 326\u001b[0;31m                 raise Py4JJavaError(\n\u001b[0m\u001b[1;32m    327\u001b[0m                     \u001b[0;34m\"An error occurred while calling {0}{1}{2}.\\n\"\u001b[0m\u001b[0;34m.\u001b[0m\u001b[0;34m\u001b[0m\u001b[0;34m\u001b[0m\u001b[0m\n\u001b[1;32m    328\u001b[0m                     format(target_id, \".\", name), value)\n",
            "\u001b[0;31mPy4JJavaError\u001b[0m: An error occurred while calling o2986.fit.\n: org.apache.spark.SparkException: Job aborted due to stage failure: Task 1 in stage 7341.1 failed 4 times, most recent failure: Lost task 1.3 in stage 7341.1 (TID 214413) (10.128.47.200 executor 10): java.lang.ArrayIndexOutOfBoundsException\n\nDriver stacktrace:\n\tat org.apache.spark.scheduler.DAGScheduler.failJobAndIndependentStages(DAGScheduler.scala:2253)\n\tat org.apache.spark.scheduler.DAGScheduler.$anonfun$abortStage$2(DAGScheduler.scala:2202)\n\tat org.apache.spark.scheduler.DAGScheduler.$anonfun$abortStage$2$adapted(DAGScheduler.scala:2201)\n\tat scala.collection.mutable.ResizableArray.foreach(ResizableArray.scala:62)\n\tat scala.collection.mutable.ResizableArray.foreach$(ResizableArray.scala:55)\n\tat scala.collection.mutable.ArrayBuffer.foreach(ArrayBuffer.scala:49)\n\tat org.apache.spark.scheduler.DAGScheduler.abortStage(DAGScheduler.scala:2201)\n\tat org.apache.spark.scheduler.DAGScheduler.$anonfun$handleTaskSetFailed$1(DAGScheduler.scala:1078)\n\tat org.apache.spark.scheduler.DAGScheduler.$anonfun$handleTaskSetFailed$1$adapted(DAGScheduler.scala:1078)\n\tat scala.Option.foreach(Option.scala:407)\n\tat org.apache.spark.scheduler.DAGScheduler.handleTaskSetFailed(DAGScheduler.scala:1078)\n\tat org.apache.spark.scheduler.DAGSchedulerEventProcessLoop.doOnReceive(DAGScheduler.scala:2440)\n\tat org.apache.spark.scheduler.DAGSchedulerEventProcessLoop.onReceive(DAGScheduler.scala:2382)\n\tat org.apache.spark.scheduler.DAGSchedulerEventProcessLoop.onReceive(DAGScheduler.scala:2371)\n\tat org.apache.spark.util.EventLoop$$anon$1.run(EventLoop.scala:49)\n\tat org.apache.spark.scheduler.DAGScheduler.runJob(DAGScheduler.scala:868)\n\tat org.apache.spark.SparkContext.runJob(SparkContext.scala:2202)\n\tat org.apache.spark.SparkContext.runJob(SparkContext.scala:2297)\n\tat org.apache.spark.rdd.RDD.$anonfun$fold$1(RDD.scala:1183)\n\tat org.apache.spark.rdd.RDDOperationScope$.withScope(RDDOperationScope.scala:151)\n\tat org.apache.spark.rdd.RDDOperationScope$.withScope(RDDOperationScope.scala:112)\n\tat org.apache.spark.rdd.RDD.withScope(RDD.scala:414)\n\tat org.apache.spark.rdd.RDD.fold(RDD.scala:1177)\n\tat org.apache.spark.mllib.clustering.EMLDAOptimizer.computeGlobalTopicTotals(LDAOptimizer.scala:228)\n\tat org.apache.spark.mllib.clustering.EMLDAOptimizer.next(LDAOptimizer.scala:213)\n\tat org.apache.spark.mllib.clustering.EMLDAOptimizer.next(LDAOptimizer.scala:76)\n\tat org.apache.spark.mllib.clustering.LDA.run(LDA.scala:330)\n\tat org.apache.spark.ml.clustering.LDA.$anonfun$fit$1(LDA.scala:968)\n\tat org.apache.spark.ml.util.Instrumentation$.$anonfun$instrumented$1(Instrumentation.scala:191)\n\tat scala.util.Try$.apply(Try.scala:213)\n\tat org.apache.spark.ml.util.Instrumentation$.instrumented(Instrumentation.scala:191)\n\tat org.apache.spark.ml.clustering.LDA.fit(LDA.scala:938)\n\tat org.apache.spark.ml.clustering.LDA.fit(LDA.scala:862)\n\tat java.base/jdk.internal.reflect.NativeMethodAccessorImpl.invoke0(Native Method)\n\tat java.base/jdk.internal.reflect.NativeMethodAccessorImpl.invoke(NativeMethodAccessorImpl.java:62)\n\tat java.base/jdk.internal.reflect.DelegatingMethodAccessorImpl.invoke(DelegatingMethodAccessorImpl.java:43)\n\tat java.base/java.lang.reflect.Method.invoke(Method.java:566)\n\tat py4j.reflection.MethodInvoker.invoke(MethodInvoker.java:244)\n\tat py4j.reflection.ReflectionEngine.invoke(ReflectionEngine.java:357)\n\tat py4j.Gateway.invoke(Gateway.java:282)\n\tat py4j.commands.AbstractCommand.invokeMethod(AbstractCommand.java:132)\n\tat py4j.commands.CallCommand.execute(CallCommand.java:79)\n\tat py4j.GatewayConnection.run(GatewayConnection.java:238)\n\tat java.base/java.lang.Thread.run(Thread.java:834)\nCaused by: java.lang.ArrayIndexOutOfBoundsException\n"
          ]
        }
      ],
      "source": [
        "model_1 = lda.fit(corpus)"
      ]
    },
    {
      "cell_type": "code",
      "execution_count": null,
      "id": "removable-lemon",
      "metadata": {
        "id": "removable-lemon",
        "outputId": "106968cb-7233-4d11-9ea7-ff588c482446"
      },
      "outputs": [
        {
          "data": {
            "text/plain": [
              "DistributedLDAModel: uid=LDA_340ec2b865e6, k=13, numFeatures=10000"
            ]
          },
          "execution_count": 171,
          "metadata": {},
          "output_type": "execute_result"
        }
      ],
      "source": [
        "model"
      ]
    },
    {
      "cell_type": "code",
      "execution_count": null,
      "id": "public-sheriff",
      "metadata": {
        "id": "public-sheriff"
      },
      "outputs": [],
      "source": [
        "model_1.logLikelihood(corpus)"
      ]
    },
    {
      "cell_type": "code",
      "execution_count": null,
      "id": "fitted-accent",
      "metadata": {
        "id": "fitted-accent"
      },
      "outputs": [],
      "source": [
        "model_1.logPerplexity(corpus)"
      ]
    },
    {
      "cell_type": "code",
      "execution_count": null,
      "id": "encouraging-desert",
      "metadata": {
        "id": "encouraging-desert"
      },
      "outputs": [],
      "source": [
        "import datetime"
      ]
    },
    {
      "cell_type": "code",
      "execution_count": null,
      "id": "floating-triangle",
      "metadata": {
        "id": "floating-triangle",
        "outputId": "e9fdbadc-1ff3-4003-c53e-bf10f229d4c8"
      },
      "outputs": [
        {
          "data": {
            "text/plain": [
              "datetime.datetime(2022, 5, 31, 19, 31, 1, 449677)"
            ]
          },
          "execution_count": 165,
          "metadata": {},
          "output_type": "execute_result"
        }
      ],
      "source": [
        "datetime.datetime.now()"
      ]
    },
    {
      "cell_type": "code",
      "execution_count": null,
      "id": "minus-medicine",
      "metadata": {
        "id": "minus-medicine",
        "outputId": "9530d893-e467-4482-d852-582032c62c0e"
      },
      "outputs": [
        {
          "name": "stdout",
          "output_type": "stream",
          "text": [
            "2022-05-31 09:51:34.852213\n",
            "2022-05-31 10:40:04.611241\n",
            "2022-05-31 11:31:28.759513\n",
            "2022-05-31 12:26:16.428468\n"
          ]
        },
        {
          "ename": "KeyboardInterrupt",
          "evalue": "",
          "output_type": "error",
          "traceback": [
            "\u001b[0;31m---------------------------------------------------------------------------\u001b[0m",
            "\u001b[0;31mKeyboardInterrupt\u001b[0m                         Traceback (most recent call last)",
            "\u001b[0;32m<ipython-input-86-1b82a0768b78>\u001b[0m in \u001b[0;36m<module>\u001b[0;34m\u001b[0m\n\u001b[1;32m      4\u001b[0m \u001b[0;32mfor\u001b[0m \u001b[0mnum_topics\u001b[0m \u001b[0;32min\u001b[0m \u001b[0mrange\u001b[0m\u001b[0;34m(\u001b[0m\u001b[0;36m2\u001b[0m\u001b[0;34m,\u001b[0m\u001b[0;36m20\u001b[0m\u001b[0;34m)\u001b[0m\u001b[0;34m:\u001b[0m\u001b[0;34m\u001b[0m\u001b[0;34m\u001b[0m\u001b[0m\n\u001b[1;32m      5\u001b[0m     \u001b[0mlda\u001b[0m \u001b[0;34m=\u001b[0m \u001b[0mLDA\u001b[0m\u001b[0;34m(\u001b[0m\u001b[0mk\u001b[0m\u001b[0;34m=\u001b[0m\u001b[0mnum_topics\u001b[0m\u001b[0;34m,\u001b[0m \u001b[0mmaxIter\u001b[0m\u001b[0;34m=\u001b[0m\u001b[0;36m20\u001b[0m\u001b[0;34m,\u001b[0m \u001b[0moptimizer\u001b[0m\u001b[0;34m=\u001b[0m\u001b[0;34m\"em\"\u001b[0m\u001b[0;34m)\u001b[0m\u001b[0;34m\u001b[0m\u001b[0;34m\u001b[0m\u001b[0m\n\u001b[0;32m----> 6\u001b[0;31m     \u001b[0mmodel\u001b[0m \u001b[0;34m=\u001b[0m \u001b[0mlda\u001b[0m\u001b[0;34m.\u001b[0m\u001b[0mfit\u001b[0m\u001b[0;34m(\u001b[0m\u001b[0mcorpus\u001b[0m\u001b[0;34m)\u001b[0m\u001b[0;34m\u001b[0m\u001b[0;34m\u001b[0m\u001b[0m\n\u001b[0m\u001b[1;32m      7\u001b[0m     \u001b[0mhistory\u001b[0m\u001b[0;34m.\u001b[0m\u001b[0mappend\u001b[0m\u001b[0;34m(\u001b[0m\u001b[0mmodel\u001b[0m\u001b[0;34m)\u001b[0m\u001b[0;34m\u001b[0m\u001b[0;34m\u001b[0m\u001b[0m\n\u001b[1;32m      8\u001b[0m     \u001b[0mll_1\u001b[0m\u001b[0;34m.\u001b[0m\u001b[0mappend\u001b[0m\u001b[0;34m(\u001b[0m\u001b[0mmodel\u001b[0m\u001b[0;34m.\u001b[0m\u001b[0mlogLikelihood\u001b[0m\u001b[0;34m(\u001b[0m\u001b[0mcorpus\u001b[0m\u001b[0;34m)\u001b[0m\u001b[0;34m)\u001b[0m\u001b[0;34m\u001b[0m\u001b[0;34m\u001b[0m\u001b[0m\n",
            "\u001b[0;32m/usr/local/spark/python/pyspark/ml/base.py\u001b[0m in \u001b[0;36mfit\u001b[0;34m(self, dataset, params)\u001b[0m\n\u001b[1;32m    159\u001b[0m                 \u001b[0;32mreturn\u001b[0m \u001b[0mself\u001b[0m\u001b[0;34m.\u001b[0m\u001b[0mcopy\u001b[0m\u001b[0;34m(\u001b[0m\u001b[0mparams\u001b[0m\u001b[0;34m)\u001b[0m\u001b[0;34m.\u001b[0m\u001b[0m_fit\u001b[0m\u001b[0;34m(\u001b[0m\u001b[0mdataset\u001b[0m\u001b[0;34m)\u001b[0m\u001b[0;34m\u001b[0m\u001b[0;34m\u001b[0m\u001b[0m\n\u001b[1;32m    160\u001b[0m             \u001b[0;32melse\u001b[0m\u001b[0;34m:\u001b[0m\u001b[0;34m\u001b[0m\u001b[0;34m\u001b[0m\u001b[0m\n\u001b[0;32m--> 161\u001b[0;31m                 \u001b[0;32mreturn\u001b[0m \u001b[0mself\u001b[0m\u001b[0;34m.\u001b[0m\u001b[0m_fit\u001b[0m\u001b[0;34m(\u001b[0m\u001b[0mdataset\u001b[0m\u001b[0;34m)\u001b[0m\u001b[0;34m\u001b[0m\u001b[0;34m\u001b[0m\u001b[0m\n\u001b[0m\u001b[1;32m    162\u001b[0m         \u001b[0;32melse\u001b[0m\u001b[0;34m:\u001b[0m\u001b[0;34m\u001b[0m\u001b[0;34m\u001b[0m\u001b[0m\n\u001b[1;32m    163\u001b[0m             raise ValueError(\"Params must be either a param map or a list/tuple of param maps, \"\n",
            "\u001b[0;32m/usr/local/spark/python/pyspark/ml/wrapper.py\u001b[0m in \u001b[0;36m_fit\u001b[0;34m(self, dataset)\u001b[0m\n\u001b[1;32m    333\u001b[0m \u001b[0;34m\u001b[0m\u001b[0m\n\u001b[1;32m    334\u001b[0m     \u001b[0;32mdef\u001b[0m \u001b[0m_fit\u001b[0m\u001b[0;34m(\u001b[0m\u001b[0mself\u001b[0m\u001b[0;34m,\u001b[0m \u001b[0mdataset\u001b[0m\u001b[0;34m)\u001b[0m\u001b[0;34m:\u001b[0m\u001b[0;34m\u001b[0m\u001b[0;34m\u001b[0m\u001b[0m\n\u001b[0;32m--> 335\u001b[0;31m         \u001b[0mjava_model\u001b[0m \u001b[0;34m=\u001b[0m \u001b[0mself\u001b[0m\u001b[0;34m.\u001b[0m\u001b[0m_fit_java\u001b[0m\u001b[0;34m(\u001b[0m\u001b[0mdataset\u001b[0m\u001b[0;34m)\u001b[0m\u001b[0;34m\u001b[0m\u001b[0;34m\u001b[0m\u001b[0m\n\u001b[0m\u001b[1;32m    336\u001b[0m         \u001b[0mmodel\u001b[0m \u001b[0;34m=\u001b[0m \u001b[0mself\u001b[0m\u001b[0;34m.\u001b[0m\u001b[0m_create_model\u001b[0m\u001b[0;34m(\u001b[0m\u001b[0mjava_model\u001b[0m\u001b[0;34m)\u001b[0m\u001b[0;34m\u001b[0m\u001b[0;34m\u001b[0m\u001b[0m\n\u001b[1;32m    337\u001b[0m         \u001b[0;32mreturn\u001b[0m \u001b[0mself\u001b[0m\u001b[0;34m.\u001b[0m\u001b[0m_copyValues\u001b[0m\u001b[0;34m(\u001b[0m\u001b[0mmodel\u001b[0m\u001b[0;34m)\u001b[0m\u001b[0;34m\u001b[0m\u001b[0;34m\u001b[0m\u001b[0m\n",
            "\u001b[0;32m/usr/local/spark/python/pyspark/ml/wrapper.py\u001b[0m in \u001b[0;36m_fit_java\u001b[0;34m(self, dataset)\u001b[0m\n\u001b[1;32m    330\u001b[0m         \"\"\"\n\u001b[1;32m    331\u001b[0m         \u001b[0mself\u001b[0m\u001b[0;34m.\u001b[0m\u001b[0m_transfer_params_to_java\u001b[0m\u001b[0;34m(\u001b[0m\u001b[0;34m)\u001b[0m\u001b[0;34m\u001b[0m\u001b[0;34m\u001b[0m\u001b[0m\n\u001b[0;32m--> 332\u001b[0;31m         \u001b[0;32mreturn\u001b[0m \u001b[0mself\u001b[0m\u001b[0;34m.\u001b[0m\u001b[0m_java_obj\u001b[0m\u001b[0;34m.\u001b[0m\u001b[0mfit\u001b[0m\u001b[0;34m(\u001b[0m\u001b[0mdataset\u001b[0m\u001b[0;34m.\u001b[0m\u001b[0m_jdf\u001b[0m\u001b[0;34m)\u001b[0m\u001b[0;34m\u001b[0m\u001b[0;34m\u001b[0m\u001b[0m\n\u001b[0m\u001b[1;32m    333\u001b[0m \u001b[0;34m\u001b[0m\u001b[0m\n\u001b[1;32m    334\u001b[0m     \u001b[0;32mdef\u001b[0m \u001b[0m_fit\u001b[0m\u001b[0;34m(\u001b[0m\u001b[0mself\u001b[0m\u001b[0;34m,\u001b[0m \u001b[0mdataset\u001b[0m\u001b[0;34m)\u001b[0m\u001b[0;34m:\u001b[0m\u001b[0;34m\u001b[0m\u001b[0;34m\u001b[0m\u001b[0m\n",
            "\u001b[0;32m/usr/local/spark/python/lib/py4j-0.10.9-src.zip/py4j/java_gateway.py\u001b[0m in \u001b[0;36m__call__\u001b[0;34m(self, *args)\u001b[0m\n\u001b[1;32m   1301\u001b[0m             \u001b[0mproto\u001b[0m\u001b[0;34m.\u001b[0m\u001b[0mEND_COMMAND_PART\u001b[0m\u001b[0;34m\u001b[0m\u001b[0;34m\u001b[0m\u001b[0m\n\u001b[1;32m   1302\u001b[0m \u001b[0;34m\u001b[0m\u001b[0m\n\u001b[0;32m-> 1303\u001b[0;31m         \u001b[0manswer\u001b[0m \u001b[0;34m=\u001b[0m \u001b[0mself\u001b[0m\u001b[0;34m.\u001b[0m\u001b[0mgateway_client\u001b[0m\u001b[0;34m.\u001b[0m\u001b[0msend_command\u001b[0m\u001b[0;34m(\u001b[0m\u001b[0mcommand\u001b[0m\u001b[0;34m)\u001b[0m\u001b[0;34m\u001b[0m\u001b[0;34m\u001b[0m\u001b[0m\n\u001b[0m\u001b[1;32m   1304\u001b[0m         return_value = get_return_value(\n\u001b[1;32m   1305\u001b[0m             answer, self.gateway_client, self.target_id, self.name)\n",
            "\u001b[0;32m/usr/local/spark/python/lib/py4j-0.10.9-src.zip/py4j/java_gateway.py\u001b[0m in \u001b[0;36msend_command\u001b[0;34m(self, command, retry, binary)\u001b[0m\n\u001b[1;32m   1031\u001b[0m         \u001b[0mconnection\u001b[0m \u001b[0;34m=\u001b[0m \u001b[0mself\u001b[0m\u001b[0;34m.\u001b[0m\u001b[0m_get_connection\u001b[0m\u001b[0;34m(\u001b[0m\u001b[0;34m)\u001b[0m\u001b[0;34m\u001b[0m\u001b[0;34m\u001b[0m\u001b[0m\n\u001b[1;32m   1032\u001b[0m         \u001b[0;32mtry\u001b[0m\u001b[0;34m:\u001b[0m\u001b[0;34m\u001b[0m\u001b[0;34m\u001b[0m\u001b[0m\n\u001b[0;32m-> 1033\u001b[0;31m             \u001b[0mresponse\u001b[0m \u001b[0;34m=\u001b[0m \u001b[0mconnection\u001b[0m\u001b[0;34m.\u001b[0m\u001b[0msend_command\u001b[0m\u001b[0;34m(\u001b[0m\u001b[0mcommand\u001b[0m\u001b[0;34m)\u001b[0m\u001b[0;34m\u001b[0m\u001b[0;34m\u001b[0m\u001b[0m\n\u001b[0m\u001b[1;32m   1034\u001b[0m             \u001b[0;32mif\u001b[0m \u001b[0mbinary\u001b[0m\u001b[0;34m:\u001b[0m\u001b[0;34m\u001b[0m\u001b[0;34m\u001b[0m\u001b[0m\n\u001b[1;32m   1035\u001b[0m                 \u001b[0;32mreturn\u001b[0m \u001b[0mresponse\u001b[0m\u001b[0;34m,\u001b[0m \u001b[0mself\u001b[0m\u001b[0;34m.\u001b[0m\u001b[0m_create_connection_guard\u001b[0m\u001b[0;34m(\u001b[0m\u001b[0mconnection\u001b[0m\u001b[0;34m)\u001b[0m\u001b[0;34m\u001b[0m\u001b[0;34m\u001b[0m\u001b[0m\n",
            "\u001b[0;32m/usr/local/spark/python/lib/py4j-0.10.9-src.zip/py4j/java_gateway.py\u001b[0m in \u001b[0;36msend_command\u001b[0;34m(self, command)\u001b[0m\n\u001b[1;32m   1198\u001b[0m \u001b[0;34m\u001b[0m\u001b[0m\n\u001b[1;32m   1199\u001b[0m         \u001b[0;32mtry\u001b[0m\u001b[0;34m:\u001b[0m\u001b[0;34m\u001b[0m\u001b[0;34m\u001b[0m\u001b[0m\n\u001b[0;32m-> 1200\u001b[0;31m             \u001b[0manswer\u001b[0m \u001b[0;34m=\u001b[0m \u001b[0msmart_decode\u001b[0m\u001b[0;34m(\u001b[0m\u001b[0mself\u001b[0m\u001b[0;34m.\u001b[0m\u001b[0mstream\u001b[0m\u001b[0;34m.\u001b[0m\u001b[0mreadline\u001b[0m\u001b[0;34m(\u001b[0m\u001b[0;34m)\u001b[0m\u001b[0;34m[\u001b[0m\u001b[0;34m:\u001b[0m\u001b[0;34m-\u001b[0m\u001b[0;36m1\u001b[0m\u001b[0;34m]\u001b[0m\u001b[0;34m)\u001b[0m\u001b[0;34m\u001b[0m\u001b[0;34m\u001b[0m\u001b[0m\n\u001b[0m\u001b[1;32m   1201\u001b[0m             \u001b[0mlogger\u001b[0m\u001b[0;34m.\u001b[0m\u001b[0mdebug\u001b[0m\u001b[0;34m(\u001b[0m\u001b[0;34m\"Answer received: {0}\"\u001b[0m\u001b[0;34m.\u001b[0m\u001b[0mformat\u001b[0m\u001b[0;34m(\u001b[0m\u001b[0manswer\u001b[0m\u001b[0;34m)\u001b[0m\u001b[0;34m)\u001b[0m\u001b[0;34m\u001b[0m\u001b[0;34m\u001b[0m\u001b[0m\n\u001b[1;32m   1202\u001b[0m             \u001b[0;32mif\u001b[0m \u001b[0manswer\u001b[0m\u001b[0;34m.\u001b[0m\u001b[0mstartswith\u001b[0m\u001b[0;34m(\u001b[0m\u001b[0mproto\u001b[0m\u001b[0;34m.\u001b[0m\u001b[0mRETURN_MESSAGE\u001b[0m\u001b[0;34m)\u001b[0m\u001b[0;34m:\u001b[0m\u001b[0;34m\u001b[0m\u001b[0;34m\u001b[0m\u001b[0m\n",
            "\u001b[0;32m/opt/conda/lib/python3.8/socket.py\u001b[0m in \u001b[0;36mreadinto\u001b[0;34m(self, b)\u001b[0m\n\u001b[1;32m    667\u001b[0m         \u001b[0;32mwhile\u001b[0m \u001b[0;32mTrue\u001b[0m\u001b[0;34m:\u001b[0m\u001b[0;34m\u001b[0m\u001b[0;34m\u001b[0m\u001b[0m\n\u001b[1;32m    668\u001b[0m             \u001b[0;32mtry\u001b[0m\u001b[0;34m:\u001b[0m\u001b[0;34m\u001b[0m\u001b[0;34m\u001b[0m\u001b[0m\n\u001b[0;32m--> 669\u001b[0;31m                 \u001b[0;32mreturn\u001b[0m \u001b[0mself\u001b[0m\u001b[0;34m.\u001b[0m\u001b[0m_sock\u001b[0m\u001b[0;34m.\u001b[0m\u001b[0mrecv_into\u001b[0m\u001b[0;34m(\u001b[0m\u001b[0mb\u001b[0m\u001b[0;34m)\u001b[0m\u001b[0;34m\u001b[0m\u001b[0;34m\u001b[0m\u001b[0m\n\u001b[0m\u001b[1;32m    670\u001b[0m             \u001b[0;32mexcept\u001b[0m \u001b[0mtimeout\u001b[0m\u001b[0;34m:\u001b[0m\u001b[0;34m\u001b[0m\u001b[0;34m\u001b[0m\u001b[0m\n\u001b[1;32m    671\u001b[0m                 \u001b[0mself\u001b[0m\u001b[0;34m.\u001b[0m\u001b[0m_timeout_occurred\u001b[0m \u001b[0;34m=\u001b[0m \u001b[0;32mTrue\u001b[0m\u001b[0;34m\u001b[0m\u001b[0;34m\u001b[0m\u001b[0m\n",
            "\u001b[0;31mKeyboardInterrupt\u001b[0m: "
          ]
        }
      ],
      "source": [
        "ll_1 = []\n",
        "lp_1 = []\n",
        "history =[]\n",
        "for num_topics in range(2,20):\n",
        "    lda = LDA(k=num_topics, maxIter=20, optimizer=\"em\")\n",
        "    model = lda.fit(corpus)\n",
        "    history.append(model)\n",
        "    ll_1.append(model.logLikelihood(corpus))\n",
        "    lp_1.append(model.logPerplexity(corpus))\n",
        "    print(datetime.datetime.now())"
      ]
    },
    {
      "cell_type": "code",
      "execution_count": null,
      "id": "timely-storage",
      "metadata": {
        "id": "timely-storage"
      },
      "outputs": [],
      "source": [
        "import ktrain "
      ]
    },
    {
      "cell_type": "code",
      "execution_count": null,
      "id": "protected-anderson",
      "metadata": {
        "id": "protected-anderson"
      },
      "outputs": [],
      "source": [
        "ll = []\n",
        "lp = []\n",
        "for num_topics in range(11, 20, 2):\n",
        "    lda = LDA(k=num_topics, maxIter=10, optimizer=\"em\")\n",
        "    model = lda.fit(corpus)\n",
        "    ll.append(model.logLikelihood(corpus))\n",
        "    lp.append(model.logPerplexity(corpus))"
      ]
    },
    {
      "cell_type": "code",
      "execution_count": null,
      "id": "extra-creek",
      "metadata": {
        "id": "extra-creek",
        "outputId": "85264a6d-178a-4e53-f5e1-2eb31e10233a"
      },
      "outputs": [
        {
          "data": {
            "text/plain": [
              "[8.41168702123163,\n",
              " 8.417123468435697,\n",
              " 8.422406015126112,\n",
              " 8.427477133088303,\n",
              " 8.432549978736134]"
            ]
          },
          "execution_count": 74,
          "metadata": {},
          "output_type": "execute_result"
        }
      ],
      "source": [
        "lp\n"
      ]
    },
    {
      "cell_type": "code",
      "execution_count": null,
      "id": "adult-exchange",
      "metadata": {
        "id": "adult-exchange",
        "outputId": "92fd0093-7f5e-471b-91d8-3a36187bcdf2"
      },
      "outputs": [
        {
          "data": {
            "image/png": "[encoded data removed]",
            "text/plain": [
              "<Figure size 432x288 with 1 Axes>"
            ]
          },
          "metadata": {
            "needs_background": "light"
          },
          "output_type": "display_data"
        }
      ],
      "source": [
        "import matplotlib.pyplot as plt\n",
        "# Show graph\n",
        "limit=20; start=11; step=2;\n",
        "x = range(start, limit, step)\n",
        "plt.plot(x, lp)\n",
        "plt.xlabel(\"Num Topics\")\n",
        "plt.ylabel(\"Perplexity score\")\n",
        "plt.legend((\"perplexity_values\"), loc='best')\n",
        "plt.show()"
      ]
    },
    {
      "cell_type": "code",
      "execution_count": null,
      "id": "prompt-panel",
      "metadata": {
        "id": "prompt-panel",
        "outputId": "44113ab2-938c-494b-8f35-ed93ec279bb7"
      },
      "outputs": [
        {
          "data": {
            "image/png": "[encoded data removed]",
            "text/plain": [
              "<Figure size 432x288 with 1 Axes>"
            ]
          },
          "metadata": {
            "needs_background": "light"
          },
          "output_type": "display_data"
        }
      ],
      "source": [
        "import matplotlib.pyplot as plt\n",
        "# Show graph\n",
        "limit=20; start=11; step=2;\n",
        "x = range(start, limit, step)\n",
        "plt.plot(x, ll)\n",
        "plt.xlabel(\"Num Topics\")\n",
        "plt.ylabel(\"Likelihood score\")\n",
        "plt.legend((\"likelihood_values\"), loc='best')\n",
        "plt.show()\n"
      ]
    },
    {
      "cell_type": "code",
      "execution_count": null,
      "id": "effective-principal",
      "metadata": {
        "id": "effective-principal"
      },
      "outputs": [],
      "source": [
        "# from pyspark.ml.clustering import LDA\n",
        "# lda = LDA(k=13, maxIter=20, optimizer=\"em\")\n",
        "# model = lda.fit(corpus)"
      ]
    },
    {
      "cell_type": "code",
      "execution_count": null,
      "id": "conscious-electric",
      "metadata": {
        "id": "conscious-electric"
      },
      "outputs": [],
      "source": [
        "# !hdfs dfs -copyFromLocal ~/nfs-home/lda /home/vmyslenkova-337998/lda"
      ]
    },
    {
      "cell_type": "code",
      "execution_count": null,
      "id": "radical-petersburg",
      "metadata": {
        "id": "radical-petersburg",
        "outputId": "43289cdf-0c1c-4517-d309-b388bea1360e"
      },
      "outputs": [
        {
          "data": {
            "text/plain": [
              "'/home/jovyan/nfs-home'"
            ]
          },
          "execution_count": 125,
          "metadata": {},
          "output_type": "execute_result"
        }
      ],
      "source": [
        "os.getcwd()"
      ]
    },
    {
      "cell_type": "code",
      "execution_count": null,
      "id": "arbitrary-imperial",
      "metadata": {
        "id": "arbitrary-imperial",
        "outputId": "dc24e342-934a-4bad-e068-171ee932f962"
      },
      "outputs": [
        {
          "data": {
            "text/plain": [
              "DistributedLDAModel: uid=LDA_8f18be303700, k=13, numFeatures=10000"
            ]
          },
          "execution_count": 126,
          "metadata": {},
          "output_type": "execute_result"
        }
      ],
      "source": [
        "model"
      ]
    },
    {
      "cell_type": "code",
      "execution_count": null,
      "id": "photographic-scanning",
      "metadata": {
        "id": "photographic-scanning"
      },
      "outputs": [],
      "source": [
        "# lda_path = \"/home/vmyslenkova-337998/models_lda.lda\"\n",
        "# model.save(lda_path)"
      ]
    },
    {
      "cell_type": "code",
      "execution_count": null,
      "id": "latter-upgrade",
      "metadata": {
        "id": "latter-upgrade",
        "outputId": "9132d24d-f3b5-4225-cfa8-90ab573225bd"
      },
      "outputs": [
        {
          "name": "stdout",
          "output_type": "stream",
          "text": [
            "+-----+-----------------------------------------------------------------------+--------------------------------------------------------------------------------------------------------------------------------------------------------------------------------------------------------------------------------------------------------------------------------------------------------------------------------------------------------------------------------------------------------------------------------------------------------------------------+\n",
            "|topic|termIndices                                                            |termWeights                                                                                                                                                                                                                                                                                                                                                                                                                                                               |\n",
            "+-----+-----------------------------------------------------------------------+--------------------------------------------------------------------------------------------------------------------------------------------------------------------------------------------------------------------------------------------------------------------------------------------------------------------------------------------------------------------------------------------------------------------------------------------------------------------------+\n",
            "|0    |[4, 0, 8, 13, 18, 2, 17, 6, 5, 21, 27, 20, 1, 7, 15, 11, 9, 37, 10, 16]|[0.002056283031035597, 0.001984298013357383, 0.00187084168818089, 0.0017449584284274478, 0.0016124977979641874, 0.0015826844179088902, 0.0015693046761962389, 0.0015247320295284025, 0.0015240335598774263, 0.00151740191044965, 0.001507014653424601, 0.001494173054533656, 0.0014585885691273857, 0.0014514444952953723, 0.0014319729878308578, 0.0014181440397238356, 0.0013825491271296346, 0.0013722164222474626, 0.001369624642068522, 0.0013612028013336055]       |\n",
            "|1    |[4, 0, 8, 13, 18, 2, 17, 5, 21, 6, 27, 20, 1, 7, 15, 11, 9, 37, 10, 16]|[0.0020436857377679925, 0.001980682918198238, 0.0018405582414440713, 0.001743453276334827, 0.0016325145912348493, 0.0015799240988205155, 0.0015325138619775233, 0.0015279059011585664, 0.0015246673323016733, 0.0015173774617245205, 0.0014882348694912355, 0.0014868340710668415, 0.001453226668517358, 0.001449070601215602, 0.0014384182466212307, 0.0014198806807784084, 0.0013852554022821114, 0.0013751936994856654, 0.0013690746946422717, 0.0013673963996611157]  |\n",
            "|2    |[4, 0, 8, 13, 18, 2, 21, 17, 6, 5, 20, 27, 1, 15, 7, 11, 37, 10, 16, 9]|[0.002040670121969797, 0.0019842244066434257, 0.001849646217264319, 0.0017258859192582723, 0.0016473423718137198, 0.0015875300202640576, 0.0015504547572252815, 0.0015487190541927658, 0.0015233125963741542, 0.0015186535838021304, 0.0015093400189597136, 0.0015041663150927697, 0.001449989264559592, 0.001443395177415297, 0.001441418503908207, 0.0014211931666594888, 0.0013881955437140688, 0.0013854824221713263, 0.0013751455429142554, 0.0013698529487059753]   |\n",
            "|3    |[4, 0, 8, 13, 18, 2, 17, 6, 5, 21, 27, 20, 15, 1, 7, 11, 10, 37, 9, 16]|[0.0020115151768629576, 0.001971150508558753, 0.0018865460080778609, 0.001762372949902737, 0.0016485049573154525, 0.0015789264998068862, 0.00153820990943319, 0.00152517251023371, 0.0015216257933401143, 0.0015163909863602216, 0.0015018552363065924, 0.0014958869974677216, 0.0014594698673686699, 0.001450769814721545, 0.0014442325938157261, 0.001430049371167934, 0.0013808391545451694, 0.0013794696434940735, 0.0013774328200310269, 0.0013612573483323931]      |\n",
            "|4    |[4, 0, 8, 13, 18, 2, 17, 21, 5, 6, 20, 27, 1, 7, 15, 11, 37, 9, 10, 16]|[0.002075786998764945, 0.001987166427094776, 0.001855810101499935, 0.0017353730713202324, 0.0016452364578215728, 0.0015812620004621526, 0.001577013118680897, 0.0015292842298309764, 0.001523483539441942, 0.0015172502151395671, 0.0015006367740698072, 0.0014945917035244127, 0.0014550231763462748, 0.0014399163098818143, 0.001436733665664895, 0.001409103291616485, 0.0013895508780506298, 0.001379934013951405, 0.0013756636393784554, 0.0013714798070523057]      |\n",
            "|5    |[4, 0, 8, 13, 18, 2, 17, 21, 5, 6, 20, 27, 1, 15, 7, 11, 10, 9, 16, 37]|[0.002046625430926664, 0.001984517368901723, 0.0018665713342575507, 0.0017241645965657083, 0.0016490053159370743, 0.0015819722685817695, 0.001562191674697074, 0.0015426519026978634, 0.0015323472550683311, 0.001515039961992586, 0.0014994657206486312, 0.001480580093401989, 0.0014495893471682625, 0.001443286421677927, 0.0014410000571208825, 0.0014173390239163833, 0.001382848450510429, 0.0013763473344115527, 0.0013744041991328017, 0.0013643560673693989]     |\n",
            "|6    |[4, 0, 8, 13, 18, 2, 17, 5, 21, 6, 20, 27, 1, 15, 7, 11, 10, 9, 37, 16]|[0.0020276407167926797, 0.0019844010117856165, 0.0018237576745520794, 0.0017317053951403716, 0.0016409844848353156, 0.0015806824593835203, 0.0015492846313553898, 0.0015271468332407143, 0.0015251610366934436, 0.0015200319174278245, 0.00150245357410033, 0.0014779999100328909, 0.0014538984655133556, 0.0014484162815980423, 0.0014459306265088591, 0.0014232411122470565, 0.0013901107107208086, 0.0013817443275263722, 0.0013792575573126813, 0.0013740142038786442]|\n",
            "|7    |[4, 0, 8, 13, 18, 2, 17, 5, 6, 21, 20, 27, 15, 1, 7, 11, 10, 16, 9, 37]|[0.00203147487296364, 0.0019829148128096535, 0.0018692879602552216, 0.0017493002060163648, 0.0016320349599236404, 0.00158238668296242, 0.0015422891178167857, 0.0015289614236731481, 0.00152444793908805, 0.0015237905490022817, 0.0015109634657138763, 0.0015021660099875343, 0.0014531205485706288, 0.0014514759087839288, 0.0014410882624770996, 0.001411728647895595, 0.001384634604090744, 0.0013794050922419838, 0.0013740724803360555, 0.0013645526097445977]      |\n",
            "|8    |[4, 0, 8, 13, 18, 2, 17, 6, 5, 21, 27, 20, 7, 1, 15, 11, 10, 9, 16, 37]|[0.0020176907971257018, 0.0019659764967127195, 0.0018639096771890754, 0.0017191244666928133, 0.00163928269881479, 0.0015789449160959717, 0.0015587432489385365, 0.0015222002140678759, 0.0015146316476883368, 0.001510573575893343, 0.0015068996860603727, 0.0014802642284208033, 0.0014573166446648085, 0.0014479065966704664, 0.0014370458099683344, 0.0014257923741132043, 0.001380558691802074, 0.001367960578533405, 0.0013616556819756485, 0.0013455223436300583]   |\n",
            "|9    |[4, 0, 8, 13, 18, 2, 17, 6, 5, 21, 20, 27, 1, 7, 15, 11, 16, 10, 9, 37]|[0.0020517519826571654, 0.0019807713126112863, 0.0018686111630716905, 0.0017352487604396654, 0.0016385855422114007, 0.0015889240482275426, 0.0015499936041702186, 0.001528203311819703, 0.001528097500321028, 0.0015153497237115879, 0.0014994857384936573, 0.0014897893228183923, 0.0014506425667112578, 0.0014501591308315087, 0.0014353879339403712, 0.0014281549918107983, 0.001379576136855067, 0.0013753878079012251, 0.0013708490496841844, 0.0013657576651377]    |\n",
            "|10   |[4, 0, 8, 13, 18, 2, 17, 21, 6, 5, 20, 27, 7, 1, 15, 11, 10, 9, 16, 12]|[0.002011661188418555, 0.0019764821225584797, 0.0018487123154289787, 0.0017409405774314558, 0.0016807972578966478, 0.0015781963674416945, 0.0015512572795805624, 0.0015337627834356678, 0.0015300151464434392, 0.0015215723803075263, 0.0014912100554518395, 0.0014809819007931121, 0.001452766212084769, 0.0014509262659506853, 0.0014435192247067633, 0.0014250593176454278, 0.0013872809264607955, 0.001371101379981104, 0.0013700883993062814, 0.0013344759620847807] |\n",
            "|11   |[4, 0, 8, 13, 18, 2, 17, 21, 5, 6, 27, 20, 1, 15, 7, 11, 10, 9, 16, 37]|[0.002071741394052409, 0.0019983035558472704, 0.0018361637364143646, 0.0017264663549127234, 0.0016626531801918415, 0.001586836005903771, 0.001552082562581913, 0.001541996658572095, 0.0015289927535610526, 0.0015155383074192405, 0.0015079463892879459, 0.0015071255335287956, 0.0014581894409682493, 0.0014417907584007613, 0.00142868734846224, 0.0014269264332880667, 0.0013869435817413364, 0.0013818582703825338, 0.0013751366671973329, 0.0013697222651631316]    |\n",
            "|12   |[4, 0, 8, 13, 18, 2, 17, 6, 5, 21, 20, 27, 1, 7, 15, 11, 10, 9, 16, 37]|[0.0020084156966373662, 0.001977889333426727, 0.001868939048061714, 0.0017420620438531676, 0.0016523721035292772, 0.001580004276988902, 0.0015747926515937696, 0.0015229450014626936, 0.00151852655459643, 0.0015143883336052573, 0.0015044315259128724, 0.0014987082043823752, 0.0014549402606737572, 0.001452348601808112, 0.0014430776013726325, 0.0014218083724033995, 0.0013837509326354834, 0.0013692186351327994, 0.0013682850262467208, 0.0013408962032194418]    |\n",
            "+-----+-----------------------------------------------------------------------+--------------------------------------------------------------------------------------------------------------------------------------------------------------------------------------------------------------------------------------------------------------------------------------------------------------------------------------------------------------------------------------------------------------------------------------------------------------------------+\n",
            "\n"
          ]
        }
      ],
      "source": [
        "topicwords = 20\n",
        "topics = model_1.describeTopics(topicwords)\n",
        "topics.show(truncate=False)"
      ]
    },
    {
      "cell_type": "code",
      "execution_count": null,
      "id": "dated-hacker",
      "metadata": {
        "id": "dated-hacker",
        "outputId": "2719c697-bb5f-4a2d-af7e-886f4179501c"
      },
      "outputs": [
        {
          "data": {
            "text/plain": [
              "[[0,\n",
              "  [4, 0, 8, 13, 18, 2, 17, 6, 5, 21, 27, 20, 1, 7, 15, 11, 9, 37, 10, 16],\n",
              "  [0.002056283031035597,\n",
              "   0.001984298013357383,\n",
              "   0.00187084168818089,\n",
              "   0.0017449584284274478,\n",
              "   0.0016124977979641874,\n",
              "   0.0015826844179088902,\n",
              "   0.0015693046761962389,\n",
              "   0.0015247320295284025,\n",
              "   0.0015240335598774263,\n",
              "   0.00151740191044965,\n",
              "   0.001507014653424601,\n",
              "   0.001494173054533656,\n",
              "   0.0014585885691273857,\n",
              "   0.0014514444952953723,\n",
              "   0.0014319729878308578,\n",
              "   0.0014181440397238356,\n",
              "   0.0013825491271296346,\n",
              "   0.0013722164222474626,\n",
              "   0.001369624642068522,\n",
              "   0.0013612028013336055]],\n",
              " [1,\n",
              "  [4, 0, 8, 13, 18, 2, 17, 5, 21, 6, 27, 20, 1, 7, 15, 11, 9, 37, 10, 16],\n",
              "  [0.0020436857377679925,\n",
              "   0.001980682918198238,\n",
              "   0.0018405582414440713,\n",
              "   0.001743453276334827,\n",
              "   0.0016325145912348493,\n",
              "   0.0015799240988205155,\n",
              "   0.0015325138619775233,\n",
              "   0.0015279059011585664,\n",
              "   0.0015246673323016733,\n",
              "   0.0015173774617245205,\n",
              "   0.0014882348694912355,\n",
              "   0.0014868340710668415,\n",
              "   0.001453226668517358,\n",
              "   0.001449070601215602,\n",
              "   0.0014384182466212307,\n",
              "   0.0014198806807784084,\n",
              "   0.0013852554022821114,\n",
              "   0.0013751936994856654,\n",
              "   0.0013690746946422717,\n",
              "   0.0013673963996611157]],\n",
              " [2,\n",
              "  [4, 0, 8, 13, 18, 2, 21, 17, 6, 5, 20, 27, 1, 15, 7, 11, 37, 10, 16, 9],\n",
              "  [0.002040670121969797,\n",
              "   0.0019842244066434257,\n",
              "   0.001849646217264319,\n",
              "   0.0017258859192582723,\n",
              "   0.0016473423718137198,\n",
              "   0.0015875300202640576,\n",
              "   0.0015504547572252815,\n",
              "   0.0015487190541927658,\n",
              "   0.0015233125963741542,\n",
              "   0.0015186535838021304,\n",
              "   0.0015093400189597136,\n",
              "   0.0015041663150927697,\n",
              "   0.001449989264559592,\n",
              "   0.001443395177415297,\n",
              "   0.001441418503908207,\n",
              "   0.0014211931666594888,\n",
              "   0.0013881955437140688,\n",
              "   0.0013854824221713263,\n",
              "   0.0013751455429142554,\n",
              "   0.0013698529487059753]],\n",
              " [3,\n",
              "  [4, 0, 8, 13, 18, 2, 17, 6, 5, 21, 27, 20, 15, 1, 7, 11, 10, 37, 9, 16],\n",
              "  [0.0020115151768629576,\n",
              "   0.001971150508558753,\n",
              "   0.0018865460080778609,\n",
              "   0.001762372949902737,\n",
              "   0.0016485049573154525,\n",
              "   0.0015789264998068862,\n",
              "   0.00153820990943319,\n",
              "   0.00152517251023371,\n",
              "   0.0015216257933401143,\n",
              "   0.0015163909863602216,\n",
              "   0.0015018552363065924,\n",
              "   0.0014958869974677216,\n",
              "   0.0014594698673686699,\n",
              "   0.001450769814721545,\n",
              "   0.0014442325938157261,\n",
              "   0.001430049371167934,\n",
              "   0.0013808391545451694,\n",
              "   0.0013794696434940735,\n",
              "   0.0013774328200310269,\n",
              "   0.0013612573483323931]],\n",
              " [4,\n",
              "  [4, 0, 8, 13, 18, 2, 17, 21, 5, 6, 20, 27, 1, 7, 15, 11, 37, 9, 10, 16],\n",
              "  [0.002075786998764945,\n",
              "   0.001987166427094776,\n",
              "   0.001855810101499935,\n",
              "   0.0017353730713202324,\n",
              "   0.0016452364578215728,\n",
              "   0.0015812620004621526,\n",
              "   0.001577013118680897,\n",
              "   0.0015292842298309764,\n",
              "   0.001523483539441942,\n",
              "   0.0015172502151395671,\n",
              "   0.0015006367740698072,\n",
              "   0.0014945917035244127,\n",
              "   0.0014550231763462748,\n",
              "   0.0014399163098818143,\n",
              "   0.001436733665664895,\n",
              "   0.001409103291616485,\n",
              "   0.0013895508780506298,\n",
              "   0.001379934013951405,\n",
              "   0.0013756636393784554,\n",
              "   0.0013714798070523057]],\n",
              " [5,\n",
              "  [4, 0, 8, 13, 18, 2, 17, 21, 5, 6, 20, 27, 1, 15, 7, 11, 10, 9, 16, 37],\n",
              "  [0.002046625430926664,\n",
              "   0.001984517368901723,\n",
              "   0.0018665713342575507,\n",
              "   0.0017241645965657083,\n",
              "   0.0016490053159370743,\n",
              "   0.0015819722685817695,\n",
              "   0.001562191674697074,\n",
              "   0.0015426519026978634,\n",
              "   0.0015323472550683311,\n",
              "   0.001515039961992586,\n",
              "   0.0014994657206486312,\n",
              "   0.001480580093401989,\n",
              "   0.0014495893471682625,\n",
              "   0.001443286421677927,\n",
              "   0.0014410000571208825,\n",
              "   0.0014173390239163833,\n",
              "   0.001382848450510429,\n",
              "   0.0013763473344115527,\n",
              "   0.0013744041991328017,\n",
              "   0.0013643560673693989]],\n",
              " [6,\n",
              "  [4, 0, 8, 13, 18, 2, 17, 5, 21, 6, 20, 27, 1, 15, 7, 11, 10, 9, 37, 16],\n",
              "  [0.0020276407167926797,\n",
              "   0.0019844010117856165,\n",
              "   0.0018237576745520794,\n",
              "   0.0017317053951403716,\n",
              "   0.0016409844848353156,\n",
              "   0.0015806824593835203,\n",
              "   0.0015492846313553898,\n",
              "   0.0015271468332407143,\n",
              "   0.0015251610366934436,\n",
              "   0.0015200319174278245,\n",
              "   0.00150245357410033,\n",
              "   0.0014779999100328909,\n",
              "   0.0014538984655133556,\n",
              "   0.0014484162815980423,\n",
              "   0.0014459306265088591,\n",
              "   0.0014232411122470565,\n",
              "   0.0013901107107208086,\n",
              "   0.0013817443275263722,\n",
              "   0.0013792575573126813,\n",
              "   0.0013740142038786442]],\n",
              " [7,\n",
              "  [4, 0, 8, 13, 18, 2, 17, 5, 6, 21, 20, 27, 15, 1, 7, 11, 10, 16, 9, 37],\n",
              "  [0.00203147487296364,\n",
              "   0.0019829148128096535,\n",
              "   0.0018692879602552216,\n",
              "   0.0017493002060163648,\n",
              "   0.0016320349599236404,\n",
              "   0.00158238668296242,\n",
              "   0.0015422891178167857,\n",
              "   0.0015289614236731481,\n",
              "   0.00152444793908805,\n",
              "   0.0015237905490022817,\n",
              "   0.0015109634657138763,\n",
              "   0.0015021660099875343,\n",
              "   0.0014531205485706288,\n",
              "   0.0014514759087839288,\n",
              "   0.0014410882624770996,\n",
              "   0.001411728647895595,\n",
              "   0.001384634604090744,\n",
              "   0.0013794050922419838,\n",
              "   0.0013740724803360555,\n",
              "   0.0013645526097445977]],\n",
              " [8,\n",
              "  [4, 0, 8, 13, 18, 2, 17, 6, 5, 21, 27, 20, 7, 1, 15, 11, 10, 9, 16, 37],\n",
              "  [0.0020176907971257018,\n",
              "   0.0019659764967127195,\n",
              "   0.0018639096771890754,\n",
              "   0.0017191244666928133,\n",
              "   0.00163928269881479,\n",
              "   0.0015789449160959717,\n",
              "   0.0015587432489385365,\n",
              "   0.0015222002140678759,\n",
              "   0.0015146316476883368,\n",
              "   0.001510573575893343,\n",
              "   0.0015068996860603727,\n",
              "   0.0014802642284208033,\n",
              "   0.0014573166446648085,\n",
              "   0.0014479065966704664,\n",
              "   0.0014370458099683344,\n",
              "   0.0014257923741132043,\n",
              "   0.001380558691802074,\n",
              "   0.001367960578533405,\n",
              "   0.0013616556819756485,\n",
              "   0.0013455223436300583]],\n",
              " [9,\n",
              "  [4, 0, 8, 13, 18, 2, 17, 6, 5, 21, 20, 27, 1, 7, 15, 11, 16, 10, 9, 37],\n",
              "  [0.0020517519826571654,\n",
              "   0.0019807713126112863,\n",
              "   0.0018686111630716905,\n",
              "   0.0017352487604396654,\n",
              "   0.0016385855422114007,\n",
              "   0.0015889240482275426,\n",
              "   0.0015499936041702186,\n",
              "   0.001528203311819703,\n",
              "   0.001528097500321028,\n",
              "   0.0015153497237115879,\n",
              "   0.0014994857384936573,\n",
              "   0.0014897893228183923,\n",
              "   0.0014506425667112578,\n",
              "   0.0014501591308315087,\n",
              "   0.0014353879339403712,\n",
              "   0.0014281549918107983,\n",
              "   0.001379576136855067,\n",
              "   0.0013753878079012251,\n",
              "   0.0013708490496841844,\n",
              "   0.0013657576651377]],\n",
              " [10,\n",
              "  [4, 0, 8, 13, 18, 2, 17, 21, 6, 5, 20, 27, 7, 1, 15, 11, 10, 9, 16, 12],\n",
              "  [0.002011661188418555,\n",
              "   0.0019764821225584797,\n",
              "   0.0018487123154289787,\n",
              "   0.0017409405774314558,\n",
              "   0.0016807972578966478,\n",
              "   0.0015781963674416945,\n",
              "   0.0015512572795805624,\n",
              "   0.0015337627834356678,\n",
              "   0.0015300151464434392,\n",
              "   0.0015215723803075263,\n",
              "   0.0014912100554518395,\n",
              "   0.0014809819007931121,\n",
              "   0.001452766212084769,\n",
              "   0.0014509262659506853,\n",
              "   0.0014435192247067633,\n",
              "   0.0014250593176454278,\n",
              "   0.0013872809264607955,\n",
              "   0.001371101379981104,\n",
              "   0.0013700883993062814,\n",
              "   0.0013344759620847807]],\n",
              " [11,\n",
              "  [4, 0, 8, 13, 18, 2, 17, 21, 5, 6, 27, 20, 1, 15, 7, 11, 10, 9, 16, 37],\n",
              "  [0.002071741394052409,\n",
              "   0.0019983035558472704,\n",
              "   0.0018361637364143646,\n",
              "   0.0017264663549127234,\n",
              "   0.0016626531801918415,\n",
              "   0.001586836005903771,\n",
              "   0.001552082562581913,\n",
              "   0.001541996658572095,\n",
              "   0.0015289927535610526,\n",
              "   0.0015155383074192405,\n",
              "   0.0015079463892879459,\n",
              "   0.0015071255335287956,\n",
              "   0.0014581894409682493,\n",
              "   0.0014417907584007613,\n",
              "   0.00142868734846224,\n",
              "   0.0014269264332880667,\n",
              "   0.0013869435817413364,\n",
              "   0.0013818582703825338,\n",
              "   0.0013751366671973329,\n",
              "   0.0013697222651631316]],\n",
              " [12,\n",
              "  [4, 0, 8, 13, 18, 2, 17, 6, 5, 21, 20, 27, 1, 7, 15, 11, 10, 9, 16, 37],\n",
              "  [0.0020084156966373662,\n",
              "   0.001977889333426727,\n",
              "   0.001868939048061714,\n",
              "   0.0017420620438531676,\n",
              "   0.0016523721035292772,\n",
              "   0.001580004276988902,\n",
              "   0.0015747926515937696,\n",
              "   0.0015229450014626936,\n",
              "   0.00151852655459643,\n",
              "   0.0015143883336052573,\n",
              "   0.0015044315259128724,\n",
              "   0.0014987082043823752,\n",
              "   0.0014549402606737572,\n",
              "   0.001452348601808112,\n",
              "   0.0014430776013726325,\n",
              "   0.0014218083724033995,\n",
              "   0.0013837509326354834,\n",
              "   0.0013692186351327994,\n",
              "   0.0013682850262467208,\n",
              "   0.0013408962032194418]]]"
            ]
          },
          "execution_count": 179,
          "metadata": {},
          "output_type": "execute_result"
        }
      ],
      "source": [
        "tRDD = topics.rdd.map(list)\n",
        "tRDD.collect()"
      ]
    },
    {
      "cell_type": "code",
      "execution_count": null,
      "id": "sharing-egypt",
      "metadata": {
        "id": "sharing-egypt"
      },
      "outputs": [],
      "source": [
        "def topic_vocab(topic):\n",
        "    print(topic)\n",
        "    topicNum = topic[0]\n",
        "    terms = topic[1]\n",
        "    weight = topic[2]\n",
        "    result = []\n",
        "    for i in range(topicwords):\n",
        "        term = vocab[terms[i]]\n",
        "        out = str(topicNum)+\",\"+term+\",\"+str(weight[i])\n",
        "        result.append(out)\n",
        "  \n",
        "    return result"
      ]
    },
    {
      "cell_type": "code",
      "execution_count": null,
      "id": "threaded-three",
      "metadata": {
        "id": "threaded-three",
        "outputId": "eddc50c1-c7fb-4147-b244-44cf2e7a46b4"
      },
      "outputs": [
        {
          "data": {
            "text/plain": [
              "[['0,feature,0.0020515272464998358',\n",
              "  '0,proposed,0.001979474674772871',\n",
              "  '0,control,0.0018746428321218661',\n",
              "  '0,power,0.001757004384688974',\n",
              "  '0,user,0.0016166626563741573',\n",
              "  '0,used,0.0015866388573058305',\n",
              "  '0,learning,0.0015633534356246967',\n",
              "  '0,analysis,0.0015292267581475706',\n",
              "  '0,different,0.0015259570897968168',\n",
              "  '0,detection,0.0015121292237893578',\n",
              "  '0,energy,0.0015108352614739396',\n",
              "  '0,scheme,0.0014885985595475583',\n",
              "  '0,result,0.0014556010199543248',\n",
              "  '0,study,0.0014536412358175893',\n",
              "  '0,design,0.0014306312271145742',\n",
              "  '0,process,0.001423504495011991',\n",
              "  '0,two,0.0013779777135581573',\n",
              "  '0,application,0.0013727020612132397',\n",
              "  '0,signal,0.0013666899599850265',\n",
              "  '0,technique,0.0013624829518689519'],\n",
              " ['1,feature,0.0020296795970226383',\n",
              "  '1,proposed,0.0019743198690782005',\n",
              "  '1,control,0.0018399106155344571',\n",
              "  '1,power,0.001753081612308066',\n",
              "  '1,user,0.0016400640304246178',\n",
              "  '1,used,0.001579837945973406',\n",
              "  '1,learning,0.001542368650146438',\n",
              "  '1,different,0.0015281307717230697',\n",
              "  '1,detection,0.001524044008169872',\n",
              "  '1,analysis,0.0015176413506532743',\n",
              "  '1,energy,0.00149368403387196',\n",
              "  '1,scheme,0.0014719475759975922',\n",
              "  '1,result,0.0014523529009767516',\n",
              "  '1,study,0.0014486731082568277',\n",
              "  '1,design,0.001448357616453137',\n",
              "  '1,process,0.0014240823966869176',\n",
              "  '1,two,0.001381509469068852',\n",
              "  '1,signal,0.001374930811336794',\n",
              "  '1,application,0.0013682373804781267',\n",
              "  '1,technique,0.001365310489821141'],\n",
              " ['2,feature,0.002053811293088972',\n",
              "  '2,proposed,0.0019941862932433686',\n",
              "  '2,control,0.0018412748442843874',\n",
              "  '2,power,0.0017075908205472423',\n",
              "  '2,user,0.0016576595323504447',\n",
              "  '2,used,0.0015830367784716057',\n",
              "  '2,learning,0.001560044107954171',\n",
              "  '2,detection,0.0015464910563845059',\n",
              "  '2,scheme,0.0015225773526815296',\n",
              "  '2,analysis,0.0015214502644630959',\n",
              "  '2,different,0.001518386950646891',\n",
              "  '2,energy,0.0014858004086705857',\n",
              "  '2,result,0.0014496469558458688',\n",
              "  '2,design,0.0014383882471247712',\n",
              "  '2,study,0.0014379618698341138',\n",
              "  '2,process,0.0014155442540225598',\n",
              "  '2,signal,0.0013917237710902646',\n",
              "  '2,application,0.0013862371170512246',\n",
              "  '2,technique,0.001379919001396484',\n",
              "  '2,two,0.0013733791868349276'],\n",
              " ['3,feature,0.0020045797581258852',\n",
              "  '3,proposed,0.001970742182151302',\n",
              "  '3,control,0.0018934791501956168',\n",
              "  '3,power,0.0017583244333884622',\n",
              "  '3,user,0.0016599320246916828',\n",
              "  '3,used,0.0015759648860404253',\n",
              "  '3,learning,0.0015439914260247795',\n",
              "  '3,analysis,0.00152596128630131',\n",
              "  '3,different,0.001520533377520248',\n",
              "  '3,energy,0.0015187992682270718',\n",
              "  '3,detection,0.001505978930404806',\n",
              "  '3,scheme,0.0015018331249856752',\n",
              "  '3,design,0.001455411168567463',\n",
              "  '3,result,0.0014523929910648997',\n",
              "  '3,study,0.0014521378819421387',\n",
              "  '3,process,0.0014236256191075365',\n",
              "  '3,application,0.0013808894291974668',\n",
              "  '3,two,0.001374854219361425',\n",
              "  '3,signal,0.0013712992323808683',\n",
              "  '3,technique,0.0013606335497543484'],\n",
              " ['4,feature,0.0020755317618128106',\n",
              "  '4,proposed,0.0019855563165026855',\n",
              "  '4,control,0.0018612084078531148',\n",
              "  '4,power,0.0017247980247926693',\n",
              "  '4,user,0.0016408010049264268',\n",
              "  '4,used,0.001583702962929674',\n",
              "  '4,learning,0.0015616782571954574',\n",
              "  '4,detection,0.0015316728664894804',\n",
              "  '4,different,0.0015248409072148642',\n",
              "  '4,analysis,0.0015190112382102393',\n",
              "  '4,energy,0.001498705780957393',\n",
              "  '4,scheme,0.0014943357017884128',\n",
              "  '4,result,0.0014543366079478768',\n",
              "  '4,study,0.001442540178017382',\n",
              "  '4,design,0.0014420799829796243',\n",
              "  '4,process,0.001414624262061711',\n",
              "  '4,signal,0.0013816380417868163',\n",
              "  '4,two,0.0013789931278422349',\n",
              "  '4,application,0.0013750247012730003',\n",
              "  '4,technique,0.001371091156771511'],\n",
              " ['5,feature,0.002035396593625563',\n",
              "  '5,proposed,0.00198645986140457',\n",
              "  '5,control,0.001871415997559283',\n",
              "  '5,power,0.0017340557005849251',\n",
              "  '5,user,0.0016457537943841184',\n",
              "  '5,used,0.0015847057318911723',\n",
              "  '5,learning,0.0015559552476453757',\n",
              "  '5,detection,0.0015351715848193864',\n",
              "  '5,different,0.0015341353450122348',\n",
              "  '5,analysis,0.0015141487042931495',\n",
              "  '5,scheme,0.0014961829814234095',\n",
              "  '5,energy,0.0014788066536520809',\n",
              "  '5,result,0.0014501487350135306',\n",
              "  '5,design,0.0014449992192904363',\n",
              "  '5,study,0.001438404282797117',\n",
              "  '5,process,0.0014179473412995677',\n",
              "  '5,application,0.0013849486226588017',\n",
              "  '5,technique,0.0013787226990199448',\n",
              "  '5,two,0.0013762749309179476',\n",
              "  '5,signal,0.0013609516832139047'],\n",
              " ['6,feature,0.002020197632735446',\n",
              "  '6,proposed,0.001980376419595982',\n",
              "  '6,control,0.001838222142996667',\n",
              "  '6,power,0.0017369614775821845',\n",
              "  '6,user,0.0016417901356759156',\n",
              "  '6,used,0.0015750610354500858',\n",
              "  '6,learning,0.0015560883415294804',\n",
              "  '6,different,0.001524921752345155',\n",
              "  '6,detection,0.0015248945385477114',\n",
              "  '6,analysis,0.0015195156045622465',\n",
              "  '6,scheme,0.0014986267789219173',\n",
              "  '6,energy,0.0014894485756334313',\n",
              "  '6,result,0.0014529529806911034',\n",
              "  '6,design,0.0014484162731242998',\n",
              "  '6,study,0.001447797271254916',\n",
              "  '6,process,0.001425224227339383',\n",
              "  '6,application,0.001388133114427768',\n",
              "  '6,two,0.0013826421768307554',\n",
              "  '6,signal,0.001375139199291177',\n",
              "  '6,technique,0.0013661954458626044'],\n",
              " ['7,feature,0.0020375986020352015',\n",
              "  '7,proposed,0.001986866179465458',\n",
              "  '7,control,0.0018480538419380175',\n",
              "  '7,power,0.0017419208057886943',\n",
              "  '7,user,0.0016101423091252625',\n",
              "  '7,used,0.0015836105620251448',\n",
              "  '7,learning,0.0015330056272271897',\n",
              "  '7,detection,0.0015328970553340816',\n",
              "  '7,different,0.0015242539038055575',\n",
              "  '7,analysis,0.001520521984929447',\n",
              "  '7,scheme,0.0015183829996995846',\n",
              "  '7,energy,0.0014974939203505873',\n",
              "  '7,result,0.0014540910700591581',\n",
              "  '7,design,0.0014473337715841987',\n",
              "  '7,study,0.0014459331806444202',\n",
              "  '7,process,0.0014120259209808987',\n",
              "  '7,application,0.001380100714439495',\n",
              "  '7,technique,0.0013797064449196843',\n",
              "  '7,signal,0.0013753766061788046',\n",
              "  '7,two,0.0013741891726720332'],\n",
              " ['8,feature,0.0020331213716534135',\n",
              "  '8,proposed,0.0019707010032798083',\n",
              "  '8,control,0.0018602012605848511',\n",
              "  '8,power,0.001727219663773271',\n",
              "  '8,user,0.0016576938607074916',\n",
              "  '8,used,0.0015789302877184724',\n",
              "  '8,learning,0.0015600372163490051',\n",
              "  '8,detection,0.0015259730384310421',\n",
              "  '8,analysis,0.0015240668309362126',\n",
              "  '8,different,0.001515918451539958',\n",
              "  '8,energy,0.0015049868247292032',\n",
              "  '8,scheme,0.001482813666167297',\n",
              "  '8,study,0.00145178638779555',\n",
              "  '8,result,0.0014483714780838452',\n",
              "  '8,design,0.0014368584014129396',\n",
              "  '8,process,0.00141812994621423',\n",
              "  '8,application,0.0013844983837439085',\n",
              "  '8,two,0.001368628569991249',\n",
              "  '8,technique,0.0013652277957015473',\n",
              "  '8,signal,0.0013397443386759219'],\n",
              " ['9,feature,0.0020500101559715136',\n",
              "  '9,proposed,0.001978914633555409',\n",
              "  '9,control,0.0018731234826395114',\n",
              "  '9,power,0.0017364416395811498',\n",
              "  '9,user,0.0016257453553792855',\n",
              "  '9,used,0.0015890009812712421',\n",
              "  '9,learning,0.0015565098200339843',\n",
              "  '9,analysis,0.0015297547361730452',\n",
              "  '9,different,0.00152697047338622',\n",
              "  '9,detection,0.0015123077019647626',\n",
              "  '9,scheme,0.0014979937545303804',\n",
              "  '9,energy,0.001480937465772979',\n",
              "  '9,result,0.0014518338407967426',\n",
              "  '9,study,0.0014491234252971806',\n",
              "  '9,design,0.0014379645305920917',\n",
              "  '9,process,0.001431113452054391',\n",
              "  '9,technique,0.001378334802616163',\n",
              "  '9,two,0.001375743935024118',\n",
              "  '9,application,0.0013749200699250937',\n",
              "  '9,signal,0.0013616127930756658'],\n",
              " ['10,feature,0.0020154396314194596',\n",
              "  '10,proposed,0.0019738911189298948',\n",
              "  '10,control,0.0018541585297716877',\n",
              "  '10,power,0.0017437318785508628',\n",
              "  '10,user,0.001658917031475916',\n",
              "  '10,used,0.001581556305270393',\n",
              "  '10,detection,0.0015361458021308685',\n",
              "  '10,learning,0.0015282162021722316',\n",
              "  '10,different,0.0015245603727983923',\n",
              "  '10,analysis,0.0015235627049293265',\n",
              "  '10,energy,0.0014995005168845876',\n",
              "  '10,scheme,0.0014807143529504295',\n",
              "  '10,result,0.0014525223080006301',\n",
              "  '10,study,0.0014488270902100599',\n",
              "  '10,design,0.0014426538642807385',\n",
              "  '10,process,0.0014287481705550532',\n",
              "  '10,application,0.001385001539545086',\n",
              "  '10,two,0.0013728380105266307',\n",
              "  '10,technique,0.0013681301658689633',\n",
              "  '10,signal,0.0013501351144565971'],\n",
              " ['11,feature,0.002085620515446161',\n",
              "  '11,proposed,0.0019968393739541426',\n",
              "  '11,control,0.0018360474666527533',\n",
              "  '11,power,0.001722663259244557',\n",
              "  '11,user,0.0016801086212605441',\n",
              "  '11,used,0.0015856006671401237',\n",
              "  '11,learning,0.001572180470543183',\n",
              "  '11,detection,0.0015325450991005077',\n",
              "  '11,different,0.0015277957434032805',\n",
              "  '11,scheme,0.0015220150639540554',\n",
              "  '11,analysis,0.0015168185155079892',\n",
              "  '11,energy,0.0014818904613068543',\n",
              "  '11,result,0.001456375854953183',\n",
              "  '11,design,0.001435885806725298',\n",
              "  '11,study,0.0014284542971016783',\n",
              "  '11,process,0.0014162621534872795',\n",
              "  '11,application,0.001386338138648211',\n",
              "  '11,two,0.0013812632016170555',\n",
              "  '11,technique,0.0013732108512665765',\n",
              "  '11,signal,0.0013702554158410117'],\n",
              " ['12,feature,0.002002424831831613',\n",
              "  '12,proposed,0.0019804491406596597',\n",
              "  '12,control,0.0018576180736215153',\n",
              "  '12,power,0.0017372567926895598',\n",
              "  '12,user,0.0016465420109091486',\n",
              "  '12,used,0.0015806264174807504',\n",
              "  '12,learning,0.0015729659956396746',\n",
              "  '12,detection,0.0015256202847561365',\n",
              "  '12,analysis,0.0015245862090333406',\n",
              "  '12,different,0.0015195730484645383',\n",
              "  '12,scheme,0.0015062491652087667',\n",
              "  '12,energy,0.0015000441659497876',\n",
              "  '12,result,0.0014545387918962094',\n",
              "  '12,study,0.0014501011039734985',\n",
              "  '12,design,0.0014466538754363217',\n",
              "  '12,process,0.0014275894876209908',\n",
              "  '12,application,0.0013851694418858147',\n",
              "  '12,technique,0.0013700811461302732',\n",
              "  '12,two,0.0013698819077702336',\n",
              "  '12,signal,0.0013470868292012324']]"
            ]
          },
          "execution_count": 157,
          "metadata": {},
          "output_type": "execute_result"
        }
      ],
      "source": [
        "tRDD.map(lambda topic: topic_vocab(topic)).collect()"
      ]
    },
    {
      "cell_type": "code",
      "execution_count": null,
      "id": "eastern-processor",
      "metadata": {
        "id": "eastern-processor"
      },
      "outputs": [],
      "source": [
        "def topic_vocab_only_term(topic):\n",
        "  print(topic)\n",
        "  topicNum = topic[0]\n",
        "  terms = topic[1]\n",
        "  weight = topic[2]\n",
        "  result = []\n",
        "  for i in range(topicwords):\n",
        "    term = vocab[terms[i]]\n",
        "    out = \"\"+term\n",
        "    result.append(out)\n",
        "  \n",
        "  return result"
      ]
    },
    {
      "cell_type": "code",
      "execution_count": null,
      "id": "fossil-yesterday",
      "metadata": {
        "id": "fossil-yesterday"
      },
      "outputs": [],
      "source": [
        "list_of_term = tRDD.map(lambda topic: topic_vocab_only_term(topic)).collect()\n"
      ]
    },
    {
      "cell_type": "code",
      "execution_count": null,
      "id": "loving-batman",
      "metadata": {
        "id": "loving-batman",
        "outputId": "7bcdc9bf-058f-4cfa-dbaf-804e5d24b2d0"
      },
      "outputs": [
        {
          "name": "stdout",
          "output_type": "stream",
          "text": [
            "+--------------------+\n",
            "|            features|\n",
            "+--------------------+\n",
            "|(10000,[0,9,19,23...|\n",
            "|(10000,[1,2,19,24...|\n",
            "|(10000,[1,2,3,16,...|\n",
            "|(10000,[0,2,4,26,...|\n",
            "|(10000,[0,5,10,11...|\n",
            "|(10000,[0,1,2,10,...|\n",
            "|(10000,[2,13,181,...|\n",
            "|(10000,[1,3,7,8,1...|\n",
            "|(10000,[6,14,19,2...|\n",
            "|(10000,[7,11,28,2...|\n",
            "+--------------------+\n",
            "only showing top 10 rows\n",
            "\n"
          ]
        }
      ],
      "source": [
        "topic = tRDD.map(lambda topic: topic_vacab(topic))\n",
        "corpus.show(10)"
      ]
    },
    {
      "cell_type": "code",
      "execution_count": null,
      "id": "severe-college",
      "metadata": {
        "id": "severe-college",
        "outputId": "8e443aea-be93-4fa7-d251-798d65e855ef"
      },
      "outputs": [
        {
          "name": "stdout",
          "output_type": "stream",
          "text": [
            "+--------------------+--------------------+------------------+--------------------+--------------------+--------------------+--------------------+-----+\n",
            "|        author_names|          author_ids|               eid|         Description|   Description_split|         rawFeatures|            features|topic|\n",
            "+--------------------+--------------------+------------------+--------------------+--------------------+--------------------+--------------------+-----+\n",
            "|[Eslami, Mahdi, S...|[57220508856, 660...|2-s2.0-84865743085|common voice conv...|[common, voice, c...|(10000,[0,9,19,23...|(10000,[0,9,19,23...|    3|\n",
            "|[Vaghasloo, Y. Al...|[6506911436, 3704...|2-s2.0-84863594441|size dependent st...|[size, dependent,...|(10000,[1,2,19,24...|(10000,[1,2,19,24...|    2|\n",
            "|[Nejati, Mansour,...|[55359418700, 369...|2-s2.0-84856946260|digital subtracti...|[digital, subtrac...|(10000,[1,2,3,16,...|(10000,[1,2,3,16,...|    3|\n",
            "|[Asvadi, Alireza,...|[54897299500, 563...|2-s2.0-84855966716|present improved ...|[present, improve...|(10000,[0,2,4,26,...|(10000,[0,2,4,26,...|    3|\n",
            "| [Pashazadeh, Saeid]|       [24825064000]|2-s2.0-84855935997|pervasive healthc...|[pervasive, healt...|(10000,[0,5,10,11...|(10000,[0,5,10,11...|    2|\n",
            "|[Mohammadi, Masou...|[57638688100, 700...|2-s2.0-80055043811|machine vision ex...|[machine, vision,...|(10000,[0,1,2,10,...|(10000,[0,1,2,10,...|    3|\n",
            "|[Tosco, Paolo, Ba...|[6602417528, 5596...|2-s2.0-80255123469|tool capable conv...|[tool, capable, c...|(10000,[2,13,181,...|(10000,[2,13,181,...|    3|\n",
            "|[Moradi, Mehdi, S...|[39061676800, 571...|2-s2.0-80054016788|aim study determi...|[aim, study, dete...|(10000,[1,3,7,8,1...|(10000,[1,3,7,8,1...|    3|\n",
            "|[Babaei, Ebrahim,...|[6506152637, 3701...|2-s2.0-80053955891|one switching ove...|[one, switching, ...|(10000,[6,14,19,2...|(10000,[6,14,19,2...|    3|\n",
            "|[Hosseinbeig, S.,...|[53663781100, 536...|2-s2.0-80053413333|today governance ...|[today, governanc...|(10000,[7,11,28,2...|(10000,[7,11,28,2...|    5|\n",
            "+--------------------+--------------------+------------------+--------------------+--------------------+--------------------+--------------------+-----+\n",
            "only showing top 10 rows\n",
            "\n"
          ]
        }
      ],
      "source": [
        "from pyspark.mllib.linalg import SparseVector, DenseVector\n",
        "import math \n",
        "import operator\n",
        "from collections import Counter\n",
        "\n",
        "def get_topic_number(vector):\n",
        "    list_ex = list(vector)\n",
        "    list_ex = [math.trunc(i) for i in list_ex]\n",
        "    list_ex = [i for i in list_ex if i != 0]\n",
        "    list_ex = dict(Counter(list_ex))\n",
        "    list_ex = sorted(list_ex.items(), key=operator.itemgetter(1), reverse=True)\n",
        "    return list_ex[0][0]\n",
        "\n",
        "\n",
        "get_topic_number_udf = F.udf(f=lambda row: get_topic_number(row), returnType=T.IntegerType())\n",
        "df = rescaledData.withColumn(\"topic\", get_topic_number_udf(F.col(\"features\")))\n",
        "df.show(10)"
      ]
    },
    {
      "cell_type": "code",
      "execution_count": null,
      "id": "bottom-honduras",
      "metadata": {
        "id": "bottom-honduras"
      },
      "outputs": [],
      "source": [
        "df_1 = df.select('eid', 'topic')"
      ]
    },
    {
      "cell_type": "code",
      "execution_count": null,
      "id": "previous-mambo",
      "metadata": {
        "id": "previous-mambo"
      },
      "outputs": [],
      "source": [
        "df_1.show()"
      ]
    },
    {
      "cell_type": "code",
      "execution_count": null,
      "id": "jewish-liechtenstein",
      "metadata": {
        "id": "jewish-liechtenstein"
      },
      "outputs": [],
      "source": [
        "# df_1.write.save('/home/vmyslenkova-337998/labeled_dataset_two_columns.json', format='json', mode='errorifexists')"
      ]
    },
    {
      "cell_type": "code",
      "execution_count": null,
      "id": "pursuant-browse",
      "metadata": {
        "id": "pursuant-browse"
      },
      "outputs": [],
      "source": [
        "df_1.write.json(path='/home/vmyslenkova-337998/labeled_dataset_two_columns_test.json')"
      ]
    },
    {
      "cell_type": "code",
      "execution_count": null,
      "id": "mighty-response",
      "metadata": {
        "id": "mighty-response"
      },
      "outputs": [],
      "source": [
        "spark.stop()"
      ]
    },
    {
      "cell_type": "code",
      "execution_count": null,
      "id": "noble-means",
      "metadata": {
        "id": "noble-means"
      },
      "outputs": [],
      "source": [
        ""
      ]
    }
  ],
  "metadata": {
    "kernelspec": {
      "display_name": "Python 3",
      "language": "python",
      "name": "python3"
    },
    "language_info": {
      "codemirror_mode": {
        "name": "ipython",
        "version": 3
      },
      "file_extension": ".py",
      "mimetype": "text/x-python",
      "name": "python",
      "nbconvert_exporter": "python",
      "pygments_lexer": "ipython3",
      "version": "3.8.8"
    },
    "colab": {
      "name": "Project_big_data-Copy1 (2).ipynb",
      "provenance": [],
      "include_colab_link": true
    }
  },
  "nbformat": 4,
  "nbformat_minor": 5
}